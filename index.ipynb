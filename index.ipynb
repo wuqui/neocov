{
 "cells": [
  {
   "cell_type": "code",
   "execution_count": null,
   "metadata": {},
   "outputs": [],
   "source": [
    "%load_ext autoreload\n",
    "%autoreload 2"
   ]
  },
  {
   "cell_type": "code",
   "execution_count": null,
   "metadata": {},
   "outputs": [],
   "source": [
    "# all_data"
   ]
  },
  {
   "cell_type": "code",
   "execution_count": null,
   "metadata": {},
   "outputs": [],
   "source": [
    "from neocov.read_data import *\n",
    "from neocov.preproc import *\n",
    "from neocov.type_emb import *\n",
    "from neocov.communities import *"
   ]
  },
  {
   "cell_type": "code",
   "execution_count": null,
   "metadata": {},
   "outputs": [],
   "source": [
    "from gensim.models import Word2Vec\n",
    "import pandas as pd\n",
    "from pathlib import Path"
   ]
  },
  {
   "cell_type": "code",
   "execution_count": null,
   "metadata": {},
   "outputs": [],
   "source": [
    "DATA_DIR = '../data/'\n",
    "COMMENTS_DIAC_DIR = f'{DATA_DIR}comments/by_date/'\n",
    "OUT_DIR = '../out/'"
   ]
  },
  {
   "cell_type": "markdown",
   "metadata": {},
   "source": [
    "# NeoCov\n",
    "\n",
    "> Semantic change and social semantic variation of Covid-related English neologisms on Reddit."
   ]
  },
  {
   "cell_type": "markdown",
   "metadata": {},
   "source": [
    "## Variables"
   ]
  },
  {
   "cell_type": "markdown",
   "metadata": {},
   "source": [
    "## Semantic change"
   ]
  },
  {
   "cell_type": "markdown",
   "metadata": {},
   "source": [
    "### Read data"
   ]
  },
  {
   "cell_type": "markdown",
   "metadata": {},
   "source": [
    "#### Get file paths"
   ]
  },
  {
   "cell_type": "code",
   "execution_count": null,
   "metadata": {},
   "outputs": [],
   "source": [
    "YEAR = '2019'"
   ]
  },
  {
   "cell_type": "code",
   "execution_count": null,
   "metadata": {},
   "outputs": [],
   "source": [
    "comment_paths_year = get_comments_paths_year(COMMENTS_DIAC_DIR, YEAR)"
   ]
  },
  {
   "cell_type": "markdown",
   "metadata": {},
   "source": [
    "#### Read comments"
   ]
  },
  {
   "cell_type": "code",
   "execution_count": null,
   "metadata": {},
   "outputs": [],
   "source": [
    "%%time\n",
    "comments = read_comm_csvs(comment_paths_year)"
   ]
  },
  {
   "cell_type": "code",
   "execution_count": null,
   "metadata": {},
   "outputs": [],
   "source": [
    "comments"
   ]
  },
  {
   "cell_type": "markdown",
   "metadata": {},
   "source": [
    "### Pre-process comments"
   ]
  },
  {
   "cell_type": "code",
   "execution_count": null,
   "id": "equipped-tribe",
   "metadata": {},
   "outputs": [],
   "source": [
    "%%time\n",
    "comments = clean_comments(comments)"
   ]
  },
  {
   "cell_type": "markdown",
   "metadata": {},
   "source": [
    "### Train models"
   ]
  },
  {
   "cell_type": "markdown",
   "id": "finished-driving",
   "metadata": {},
   "source": [
    "#### Create corpus"
   ]
  },
  {
   "cell_type": "code",
   "execution_count": null,
   "id": "beneficial-disclosure",
   "metadata": {},
   "outputs": [],
   "source": [
    "corpus = Corpus(comments['body'])"
   ]
  },
  {
   "cell_type": "markdown",
   "metadata": {},
   "source": [
    "#### Train model"
   ]
  },
  {
   "cell_type": "code",
   "execution_count": null,
   "id": "lesbian-signature",
   "metadata": {},
   "outputs": [],
   "source": [
    "%%time\n",
    "model = train_model(corpus)"
   ]
  },
  {
   "cell_type": "code",
   "execution_count": null,
   "id": "copyrighted-portal",
   "metadata": {},
   "outputs": [],
   "source": [
    "len(model.wv.key_to_index)"
   ]
  },
  {
   "cell_type": "markdown",
   "id": "empty-flash",
   "metadata": {},
   "source": [
    "#### Save model"
   ]
  },
  {
   "cell_type": "code",
   "execution_count": null,
   "id": "juvenile-resource",
   "metadata": {},
   "outputs": [],
   "source": [
    "model.save(f'{OUT_DIR}models/{YEAR}.model')"
   ]
  },
  {
   "cell_type": "markdown",
   "id": "champion-necessity",
   "metadata": {},
   "source": [
    "#### Load models"
   ]
  },
  {
   "cell_type": "code",
   "execution_count": null,
   "id": "crazy-reduction",
   "metadata": {},
   "outputs": [],
   "source": [
    "model_2019 = Word2Vec.load(f'{OUT_DIR}models/2019.model')"
   ]
  },
  {
   "cell_type": "code",
   "execution_count": null,
   "id": "respective-surfing",
   "metadata": {},
   "outputs": [],
   "source": [
    "model_2020 = Word2Vec.load(f'{OUT_DIR}models/2020.model')"
   ]
  },
  {
   "cell_type": "markdown",
   "id": "studied-blank",
   "metadata": {},
   "source": [
    "### Align models"
   ]
  },
  {
   "cell_type": "code",
   "execution_count": null,
   "id": "copyrighted-portal",
   "metadata": {},
   "outputs": [],
   "source": [
    "model_2019_vocab = len(model_2019.wv.key_to_index)\n",
    "model_2020_vocab = len(model_2020.wv.key_to_index)"
   ]
  },
  {
   "cell_type": "code",
   "execution_count": null,
   "id": "hearing-awareness",
   "metadata": {},
   "outputs": [
    {
     "name": "stdout",
     "output_type": "stream",
     "text": [
      "190756 190756\n",
      "190756 190756\n"
     ]
    },
    {
     "data": {
      "text/plain": [
       "<gensim.models.word2vec.Word2Vec at 0x184aee710>"
      ]
     },
     "execution_count": null,
     "metadata": {},
     "output_type": "execute_result"
    }
   ],
   "source": [
    "smart_procrustes_align_gensim(model_2019, model_2020)"
   ]
  },
  {
   "cell_type": "code",
   "execution_count": null,
   "metadata": {},
   "outputs": [],
   "source": [
    "assert len(model_2019.wv.key_to_index) == len(model_2020.wv.vectors)"
   ]
  },
  {
   "cell_type": "code",
   "execution_count": null,
   "id": "metallic-cutting",
   "metadata": {},
   "outputs": [
    {
     "data": {
      "text/html": [
       "<div>\n",
       "<style scoped>\n",
       "    .dataframe tbody tr th:only-of-type {\n",
       "        vertical-align: middle;\n",
       "    }\n",
       "\n",
       "    .dataframe tbody tr th {\n",
       "        vertical-align: top;\n",
       "    }\n",
       "\n",
       "    .dataframe thead th {\n",
       "        text-align: right;\n",
       "    }\n",
       "</style>\n",
       "<table border=\"1\" class=\"dataframe\">\n",
       "  <thead>\n",
       "    <tr style=\"text-align: right;\">\n",
       "      <th></th>\n",
       "      <th>Model</th>\n",
       "      <th>Words</th>\n",
       "    </tr>\n",
       "  </thead>\n",
       "  <tbody>\n",
       "    <tr>\n",
       "      <th>0</th>\n",
       "      <td>2019</td>\n",
       "      <td>252564</td>\n",
       "    </tr>\n",
       "    <tr>\n",
       "      <th>1</th>\n",
       "      <td>2020</td>\n",
       "      <td>277707</td>\n",
       "    </tr>\n",
       "    <tr>\n",
       "      <th>2</th>\n",
       "      <td>intersection</td>\n",
       "      <td>190756</td>\n",
       "    </tr>\n",
       "  </tbody>\n",
       "</table>\n",
       "</div>"
      ],
      "text/plain": [
       "          Model   Words\n",
       "0          2019  252564\n",
       "1          2020  277707\n",
       "2  intersection  190756"
      ]
     },
     "execution_count": null,
     "metadata": {},
     "output_type": "execute_result"
    }
   ],
   "source": [
    "models_vocab = pd.DataFrame(\n",
    "    columns=['Model', 'Words'],\n",
    "    data=[\n",
    "        ['2019', model_2019_vocab],\n",
    "        ['2020', model_2020_vocab],\n",
    "        ['intersection', len(model_2019.wv.key_to_index)]\n",
    "    ],\n",
    ")\n",
    "\n",
    "models_vocab"
   ]
  },
  {
   "cell_type": "code",
   "execution_count": null,
   "id": "mediterranean-skiing",
   "metadata": {},
   "outputs": [],
   "source": [
    "models_vocab.to_csv(f'{OUT_DIR}models_vocab.csv', index=False)"
   ]
  },
  {
   "cell_type": "markdown",
   "id": "vocational-lighting",
   "metadata": {},
   "source": [
    "### Measure distances"
   ]
  },
  {
   "cell_type": "code",
   "execution_count": null,
   "id": "numerical-closing",
   "metadata": {},
   "outputs": [],
   "source": [
    "distances = measure_distances(model_2019, model_2020)"
   ]
  },
  {
   "cell_type": "code",
   "execution_count": null,
   "metadata": {},
   "outputs": [
    {
     "data": {
      "text/html": [
       "<div>\n",
       "<style scoped>\n",
       "    .dataframe tbody tr th:only-of-type {\n",
       "        vertical-align: middle;\n",
       "    }\n",
       "\n",
       "    .dataframe tbody tr th {\n",
       "        vertical-align: top;\n",
       "    }\n",
       "\n",
       "    .dataframe thead th {\n",
       "        text-align: right;\n",
       "    }\n",
       "</style>\n",
       "<table border=\"1\" class=\"dataframe\">\n",
       "  <thead>\n",
       "    <tr style=\"text-align: right;\">\n",
       "      <th></th>\n",
       "      <th>lex</th>\n",
       "      <th>dist_sem</th>\n",
       "      <th>freq_1</th>\n",
       "      <th>freq_2</th>\n",
       "    </tr>\n",
       "  </thead>\n",
       "  <tbody>\n",
       "    <tr>\n",
       "      <th>182174</th>\n",
       "      <td>financiados</td>\n",
       "      <td>1.270406</td>\n",
       "      <td>7</td>\n",
       "      <td>9</td>\n",
       "    </tr>\n",
       "    <tr>\n",
       "      <th>164003</th>\n",
       "      <td>______________________________________________...</td>\n",
       "      <td>1.257892</td>\n",
       "      <td>9</td>\n",
       "      <td>10</td>\n",
       "    </tr>\n",
       "    <tr>\n",
       "      <th>181373</th>\n",
       "      <td>2ffireemblem</td>\n",
       "      <td>1.247719</td>\n",
       "      <td>8</td>\n",
       "      <td>9</td>\n",
       "    </tr>\n",
       "    <tr>\n",
       "      <th>190665</th>\n",
       "      <td>obedece</td>\n",
       "      <td>1.239514</td>\n",
       "      <td>7</td>\n",
       "      <td>8</td>\n",
       "    </tr>\n",
       "    <tr>\n",
       "      <th>126286</th>\n",
       "      <td>1281</td>\n",
       "      <td>1.218590</td>\n",
       "      <td>14</td>\n",
       "      <td>16</td>\n",
       "    </tr>\n",
       "    <tr>\n",
       "      <th>...</th>\n",
       "      <td>...</td>\n",
       "      <td>...</td>\n",
       "      <td>...</td>\n",
       "      <td>...</td>\n",
       "    </tr>\n",
       "    <tr>\n",
       "      <th>175</th>\n",
       "      <td>years</td>\n",
       "      <td>0.027202</td>\n",
       "      <td>175105</td>\n",
       "      <td>192696</td>\n",
       "    </tr>\n",
       "    <tr>\n",
       "      <th>174923</th>\n",
       "      <td>ppx_yo_dt_b_asin_title_o09_s00</td>\n",
       "      <td>0.025620</td>\n",
       "      <td>8</td>\n",
       "      <td>9</td>\n",
       "    </tr>\n",
       "    <tr>\n",
       "      <th>46509</th>\n",
       "      <td>imagestabilization</td>\n",
       "      <td>0.025614</td>\n",
       "      <td>85</td>\n",
       "      <td>93</td>\n",
       "    </tr>\n",
       "    <tr>\n",
       "      <th>144055</th>\n",
       "      <td>ppx_yo_dt_b_asin_title_o03_s00</td>\n",
       "      <td>0.018814</td>\n",
       "      <td>11</td>\n",
       "      <td>13</td>\n",
       "    </tr>\n",
       "    <tr>\n",
       "      <th>68400</th>\n",
       "      <td>u5e9htr</td>\n",
       "      <td>0.012333</td>\n",
       "      <td>42</td>\n",
       "      <td>46</td>\n",
       "    </tr>\n",
       "  </tbody>\n",
       "</table>\n",
       "<p>190756 rows × 4 columns</p>\n",
       "</div>"
      ],
      "text/plain": [
       "                                                      lex  dist_sem  freq_1  \\\n",
       "182174                                        financiados  1.270406       7   \n",
       "164003  ______________________________________________...  1.257892       9   \n",
       "181373                                       2ffireemblem  1.247719       8   \n",
       "190665                                            obedece  1.239514       7   \n",
       "126286                                               1281  1.218590      14   \n",
       "...                                                   ...       ...     ...   \n",
       "175                                                 years  0.027202  175105   \n",
       "174923                     ppx_yo_dt_b_asin_title_o09_s00  0.025620       8   \n",
       "46509                                  imagestabilization  0.025614      85   \n",
       "144055                     ppx_yo_dt_b_asin_title_o03_s00  0.018814      11   \n",
       "68400                                             u5e9htr  0.012333      42   \n",
       "\n",
       "        freq_2  \n",
       "182174       9  \n",
       "164003      10  \n",
       "181373       9  \n",
       "190665       8  \n",
       "126286      16  \n",
       "...        ...  \n",
       "175     192696  \n",
       "174923       9  \n",
       "46509       93  \n",
       "144055      13  \n",
       "68400       46  \n",
       "\n",
       "[190756 rows x 4 columns]"
      ]
     },
     "execution_count": null,
     "metadata": {},
     "output_type": "execute_result"
    }
   ],
   "source": [
    "distances\\\n",
    "    .sort_values('dist_sem', ascending=False)\n"
   ]
  },
  {
   "cell_type": "markdown",
   "metadata": {},
   "source": [
    "TODO: filter by true type frequency; `Gensim`'s type frequency seems incorrect; it probably reflects frequency ranks instead of total counts."
   ]
  },
  {
   "cell_type": "code",
   "execution_count": null,
   "id": "canadian-cannon",
   "metadata": {},
   "outputs": [],
   "source": [
    "def get_sem_change_cands(distances, k=10, freq_min=1):\n",
    "    sem_change_cands = (distances\n",
    "        .query('freq_1 > @freq_min and freq_2 > @freq_min')\n",
    "        .query('lex.str.isalpha() == True')\n",
    "        .query('lex.str.len() > 3')\n",
    "        .nlargest(k, 'dist_sem')\n",
    "        .reset_index(drop=True)\n",
    "        )\n",
    "    return sem_change_cands"
   ]
  },
  {
   "cell_type": "code",
   "execution_count": null,
   "id": "canadian-cannon",
   "metadata": {},
   "outputs": [
    {
     "data": {
      "text/html": [
       "<div>\n",
       "<style scoped>\n",
       "    .dataframe tbody tr th:only-of-type {\n",
       "        vertical-align: middle;\n",
       "    }\n",
       "\n",
       "    .dataframe tbody tr th {\n",
       "        vertical-align: top;\n",
       "    }\n",
       "\n",
       "    .dataframe thead th {\n",
       "        text-align: right;\n",
       "    }\n",
       "</style>\n",
       "<table border=\"1\" class=\"dataframe\">\n",
       "  <thead>\n",
       "    <tr style=\"text-align: right;\">\n",
       "      <th></th>\n",
       "      <th>lex</th>\n",
       "      <th>dist_sem</th>\n",
       "      <th>freq_1</th>\n",
       "      <th>freq_2</th>\n",
       "    </tr>\n",
       "  </thead>\n",
       "  <tbody>\n",
       "    <tr>\n",
       "      <th>0</th>\n",
       "      <td>maskless</td>\n",
       "      <td>1.100272</td>\n",
       "      <td>118</td>\n",
       "      <td>127</td>\n",
       "    </tr>\n",
       "    <tr>\n",
       "      <th>1</th>\n",
       "      <td>lockdowns</td>\n",
       "      <td>1.070362</td>\n",
       "      <td>940</td>\n",
       "      <td>991</td>\n",
       "    </tr>\n",
       "    <tr>\n",
       "      <th>2</th>\n",
       "      <td>sunsetting</td>\n",
       "      <td>1.039729</td>\n",
       "      <td>111</td>\n",
       "      <td>120</td>\n",
       "    </tr>\n",
       "    <tr>\n",
       "      <th>3</th>\n",
       "      <td>chaz</td>\n",
       "      <td>1.010383</td>\n",
       "      <td>190</td>\n",
       "      <td>202</td>\n",
       "    </tr>\n",
       "    <tr>\n",
       "      <th>4</th>\n",
       "      <td>childe</td>\n",
       "      <td>0.957373</td>\n",
       "      <td>209</td>\n",
       "      <td>222</td>\n",
       "    </tr>\n",
       "    <tr>\n",
       "      <th>5</th>\n",
       "      <td>cerb</td>\n",
       "      <td>0.957321</td>\n",
       "      <td>315</td>\n",
       "      <td>333</td>\n",
       "    </tr>\n",
       "    <tr>\n",
       "      <th>6</th>\n",
       "      <td>megalodon</td>\n",
       "      <td>0.937414</td>\n",
       "      <td>752</td>\n",
       "      <td>792</td>\n",
       "    </tr>\n",
       "    <tr>\n",
       "      <th>7</th>\n",
       "      <td>spreader</td>\n",
       "      <td>0.932299</td>\n",
       "      <td>164</td>\n",
       "      <td>175</td>\n",
       "    </tr>\n",
       "    <tr>\n",
       "      <th>8</th>\n",
       "      <td>corona</td>\n",
       "      <td>0.927504</td>\n",
       "      <td>3553</td>\n",
       "      <td>3684</td>\n",
       "    </tr>\n",
       "    <tr>\n",
       "      <th>9</th>\n",
       "      <td>ventilators</td>\n",
       "      <td>0.925241</td>\n",
       "      <td>384</td>\n",
       "      <td>405</td>\n",
       "    </tr>\n",
       "    <tr>\n",
       "      <th>10</th>\n",
       "      <td>woul</td>\n",
       "      <td>0.924612</td>\n",
       "      <td>197</td>\n",
       "      <td>210</td>\n",
       "    </tr>\n",
       "    <tr>\n",
       "      <th>11</th>\n",
       "      <td>rona</td>\n",
       "      <td>0.922876</td>\n",
       "      <td>410</td>\n",
       "      <td>433</td>\n",
       "    </tr>\n",
       "    <tr>\n",
       "      <th>12</th>\n",
       "      <td>revamping</td>\n",
       "      <td>0.914010</td>\n",
       "      <td>129</td>\n",
       "      <td>139</td>\n",
       "    </tr>\n",
       "    <tr>\n",
       "      <th>13</th>\n",
       "      <td>pandemic</td>\n",
       "      <td>0.912615</td>\n",
       "      <td>9504</td>\n",
       "      <td>9957</td>\n",
       "    </tr>\n",
       "    <tr>\n",
       "      <th>14</th>\n",
       "      <td>snapchatting</td>\n",
       "      <td>0.912304</td>\n",
       "      <td>2262</td>\n",
       "      <td>2345</td>\n",
       "    </tr>\n",
       "    <tr>\n",
       "      <th>15</th>\n",
       "      <td>diys</td>\n",
       "      <td>0.910311</td>\n",
       "      <td>492</td>\n",
       "      <td>519</td>\n",
       "    </tr>\n",
       "    <tr>\n",
       "      <th>16</th>\n",
       "      <td>rittenhouse</td>\n",
       "      <td>0.904660</td>\n",
       "      <td>181</td>\n",
       "      <td>193</td>\n",
       "    </tr>\n",
       "    <tr>\n",
       "      <th>17</th>\n",
       "      <td>hyperlinked</td>\n",
       "      <td>0.904281</td>\n",
       "      <td>511</td>\n",
       "      <td>538</td>\n",
       "    </tr>\n",
       "    <tr>\n",
       "      <th>18</th>\n",
       "      <td>pandemics</td>\n",
       "      <td>0.902996</td>\n",
       "      <td>296</td>\n",
       "      <td>311</td>\n",
       "    </tr>\n",
       "    <tr>\n",
       "      <th>19</th>\n",
       "      <td>rpan</td>\n",
       "      <td>0.891097</td>\n",
       "      <td>542</td>\n",
       "      <td>573</td>\n",
       "    </tr>\n",
       "  </tbody>\n",
       "</table>\n",
       "</div>"
      ],
      "text/plain": [
       "             lex  dist_sem  freq_1  freq_2\n",
       "0       maskless  1.100272     118     127\n",
       "1      lockdowns  1.070362     940     991\n",
       "2     sunsetting  1.039729     111     120\n",
       "3           chaz  1.010383     190     202\n",
       "4         childe  0.957373     209     222\n",
       "5           cerb  0.957321     315     333\n",
       "6      megalodon  0.937414     752     792\n",
       "7       spreader  0.932299     164     175\n",
       "8         corona  0.927504    3553    3684\n",
       "9    ventilators  0.925241     384     405\n",
       "10          woul  0.924612     197     210\n",
       "11          rona  0.922876     410     433\n",
       "12     revamping  0.914010     129     139\n",
       "13      pandemic  0.912615    9504    9957\n",
       "14  snapchatting  0.912304    2262    2345\n",
       "15          diys  0.910311     492     519\n",
       "16   rittenhouse  0.904660     181     193\n",
       "17   hyperlinked  0.904281     511     538\n",
       "18     pandemics  0.902996     296     311\n",
       "19          rpan  0.891097     542     573"
      ]
     },
     "execution_count": null,
     "metadata": {},
     "output_type": "execute_result"
    }
   ],
   "source": [
    "k = 20\n",
    "freq_min = 100\n",
    "\n",
    "sem_change_cands = distances\\\n",
    "    .query('freq_1 > @freq_min and freq_2 > @freq_min')\\\n",
    "    .query('lex.str.isalpha() == True')\\\n",
    "    .query('lex.str.len() > 3')\\\n",
    "    .nlargest(k, 'dist_sem')\\\n",
    "    .reset_index(drop=True)\n",
    "\n",
    "sem_change_cands"
   ]
  },
  {
   "cell_type": "code",
   "execution_count": null,
   "id": "restricted-meter",
   "metadata": {},
   "outputs": [],
   "source": [
    "sem_change_cands_out = sem_change_cands\\\n",
    "    .nlargest(100, 'dist_sem')\\\n",
    "    .assign(index_1 = lambda df: df.index + 1)\\\n",
    "    .assign(dist_sem = lambda df: df['dist_sem'].round(2))\\\n",
    "    .assign(dist_sem = lambda df: df['dist_sem'].apply('{:.2f}'.format))\\\n",
    "    .rename({'index_1': '', 'lex': 'Lexeme', 'dist_sem': 'SemDist'}, axis=1)"
   ]
  },
  {
   "cell_type": "code",
   "execution_count": null,
   "metadata": {},
   "outputs": [],
   "source": [
    "sem_change_cands_out.to_csv(\n",
    "        f'{OUT_DIR}sem_change_cands.csv',\n",
    "        columns=['', 'Lexeme', 'SemDist'],\n",
    "        index=False\n",
    "    )"
   ]
  },
  {
   "cell_type": "markdown",
   "id": "chemical-tomato",
   "metadata": {},
   "source": [
    "### Inspect nearest neighbours of lexemes"
   ]
  },
  {
   "cell_type": "code",
   "execution_count": null,
   "id": "individual-inclusion",
   "metadata": {},
   "outputs": [],
   "source": [
    "LEX_NBS = 'lockdown'"
   ]
  },
  {
   "cell_type": "code",
   "execution_count": null,
   "id": "cellular-majority",
   "metadata": {},
   "outputs": [
    {
     "data": {
      "text/html": [
       "<div>\n",
       "<style scoped>\n",
       "    .dataframe tbody tr th:only-of-type {\n",
       "        vertical-align: middle;\n",
       "    }\n",
       "\n",
       "    .dataframe tbody tr th {\n",
       "        vertical-align: top;\n",
       "    }\n",
       "\n",
       "    .dataframe thead th {\n",
       "        text-align: right;\n",
       "    }\n",
       "</style>\n",
       "<table border=\"1\" class=\"dataframe\">\n",
       "  <thead>\n",
       "    <tr style=\"text-align: right;\">\n",
       "      <th></th>\n",
       "      <th>model</th>\n",
       "      <th>lex</th>\n",
       "      <th>similarity</th>\n",
       "      <th>freq</th>\n",
       "    </tr>\n",
       "  </thead>\n",
       "  <tbody>\n",
       "    <tr>\n",
       "      <th>0</th>\n",
       "      <td>1</td>\n",
       "      <td>perimeter</td>\n",
       "      <td>0.486453</td>\n",
       "      <td>530</td>\n",
       "    </tr>\n",
       "    <tr>\n",
       "      <th>1</th>\n",
       "      <td>1</td>\n",
       "      <td>rotation</td>\n",
       "      <td>0.438531</td>\n",
       "      <td>3259</td>\n",
       "    </tr>\n",
       "    <tr>\n",
       "      <th>2</th>\n",
       "      <td>1</td>\n",
       "      <td>prowl</td>\n",
       "      <td>0.422064</td>\n",
       "      <td>79</td>\n",
       "    </tr>\n",
       "    <tr>\n",
       "      <th>3</th>\n",
       "      <td>1</td>\n",
       "      <td>standby</td>\n",
       "      <td>0.421939</td>\n",
       "      <td>374</td>\n",
       "    </tr>\n",
       "    <tr>\n",
       "      <th>4</th>\n",
       "      <td>1</td>\n",
       "      <td>spotter</td>\n",
       "      <td>0.418285</td>\n",
       "      <td>171</td>\n",
       "    </tr>\n",
       "    <tr>\n",
       "      <th>5</th>\n",
       "      <td>1</td>\n",
       "      <td>turret</td>\n",
       "      <td>0.412857</td>\n",
       "      <td>1260</td>\n",
       "    </tr>\n",
       "    <tr>\n",
       "      <th>6</th>\n",
       "      <td>1</td>\n",
       "      <td>hof</td>\n",
       "      <td>0.409758</td>\n",
       "      <td>797</td>\n",
       "    </tr>\n",
       "    <tr>\n",
       "      <th>7</th>\n",
       "      <td>1</td>\n",
       "      <td>cqc</td>\n",
       "      <td>0.408991</td>\n",
       "      <td>198</td>\n",
       "    </tr>\n",
       "    <tr>\n",
       "      <th>8</th>\n",
       "      <td>1</td>\n",
       "      <td>galleon</td>\n",
       "      <td>0.406334</td>\n",
       "      <td>124</td>\n",
       "    </tr>\n",
       "    <tr>\n",
       "      <th>9</th>\n",
       "      <td>1</td>\n",
       "      <td>frontline</td>\n",
       "      <td>0.403402</td>\n",
       "      <td>678</td>\n",
       "    </tr>\n",
       "  </tbody>\n",
       "</table>\n",
       "</div>"
      ],
      "text/plain": [
       "   model        lex  similarity  freq\n",
       "0      1  perimeter    0.486453   530\n",
       "1      1   rotation    0.438531  3259\n",
       "2      1      prowl    0.422064    79\n",
       "3      1    standby    0.421939   374\n",
       "4      1    spotter    0.418285   171\n",
       "5      1     turret    0.412857  1260\n",
       "6      1        hof    0.409758   797\n",
       "7      1        cqc    0.408991   198\n",
       "8      1    galleon    0.406334   124\n",
       "9      1  frontline    0.403402   678"
      ]
     },
     "metadata": {},
     "output_type": "display_data"
    },
    {
     "data": {
      "text/html": [
       "<div>\n",
       "<style scoped>\n",
       "    .dataframe tbody tr th:only-of-type {\n",
       "        vertical-align: middle;\n",
       "    }\n",
       "\n",
       "    .dataframe tbody tr th {\n",
       "        vertical-align: top;\n",
       "    }\n",
       "\n",
       "    .dataframe thead th {\n",
       "        text-align: right;\n",
       "    }\n",
       "</style>\n",
       "<table border=\"1\" class=\"dataframe\">\n",
       "  <thead>\n",
       "    <tr style=\"text-align: right;\">\n",
       "      <th></th>\n",
       "      <th>model</th>\n",
       "      <th>lex</th>\n",
       "      <th>similarity</th>\n",
       "      <th>freq</th>\n",
       "    </tr>\n",
       "  </thead>\n",
       "  <tbody>\n",
       "    <tr>\n",
       "      <th>100000</th>\n",
       "      <td>2</td>\n",
       "      <td>lockdowns</td>\n",
       "      <td>0.764840</td>\n",
       "      <td>991</td>\n",
       "    </tr>\n",
       "    <tr>\n",
       "      <th>100001</th>\n",
       "      <td>2</td>\n",
       "      <td>quarantine</td>\n",
       "      <td>0.761415</td>\n",
       "      <td>5225</td>\n",
       "    </tr>\n",
       "    <tr>\n",
       "      <th>100002</th>\n",
       "      <td>2</td>\n",
       "      <td>pandemic</td>\n",
       "      <td>0.717629</td>\n",
       "      <td>9957</td>\n",
       "    </tr>\n",
       "    <tr>\n",
       "      <th>100003</th>\n",
       "      <td>2</td>\n",
       "      <td>shutdown</td>\n",
       "      <td>0.714777</td>\n",
       "      <td>1905</td>\n",
       "    </tr>\n",
       "    <tr>\n",
       "      <th>100004</th>\n",
       "      <td>2</td>\n",
       "      <td>shutdowns</td>\n",
       "      <td>0.636877</td>\n",
       "      <td>226</td>\n",
       "    </tr>\n",
       "    <tr>\n",
       "      <th>100005</th>\n",
       "      <td>2</td>\n",
       "      <td>quarantines</td>\n",
       "      <td>0.601028</td>\n",
       "      <td>160</td>\n",
       "    </tr>\n",
       "    <tr>\n",
       "      <th>100006</th>\n",
       "      <td>2</td>\n",
       "      <td>corona</td>\n",
       "      <td>0.579884</td>\n",
       "      <td>3684</td>\n",
       "    </tr>\n",
       "    <tr>\n",
       "      <th>100007</th>\n",
       "      <td>2</td>\n",
       "      <td>reopening</td>\n",
       "      <td>0.565140</td>\n",
       "      <td>757</td>\n",
       "    </tr>\n",
       "    <tr>\n",
       "      <th>100008</th>\n",
       "      <td>2</td>\n",
       "      <td>outbreak</td>\n",
       "      <td>0.557197</td>\n",
       "      <td>2213</td>\n",
       "    </tr>\n",
       "    <tr>\n",
       "      <th>100009</th>\n",
       "      <td>2</td>\n",
       "      <td>virus</td>\n",
       "      <td>0.550216</td>\n",
       "      <td>14315</td>\n",
       "    </tr>\n",
       "  </tbody>\n",
       "</table>\n",
       "</div>"
      ],
      "text/plain": [
       "        model          lex  similarity   freq\n",
       "100000      2    lockdowns    0.764840    991\n",
       "100001      2   quarantine    0.761415   5225\n",
       "100002      2     pandemic    0.717629   9957\n",
       "100003      2     shutdown    0.714777   1905\n",
       "100004      2    shutdowns    0.636877    226\n",
       "100005      2  quarantines    0.601028    160\n",
       "100006      2       corona    0.579884   3684\n",
       "100007      2    reopening    0.565140    757\n",
       "100008      2     outbreak    0.557197   2213\n",
       "100009      2        virus    0.550216  14315"
      ]
     },
     "metadata": {},
     "output_type": "display_data"
    }
   ],
   "source": [
    "nbs_model_1, nbs_model_2 = get_nearest_neighbours_models(\n",
    "    lex=LEX_NBS, \n",
    "    freq_min=1,\n",
    "    model_1=model_2019, \n",
    "    model_2=model_2020\n",
    ")\n",
    "\n",
    "display(\n",
    "    nbs_model_1,\n",
    "    nbs_model_2\n",
    ")"
   ]
  },
  {
   "cell_type": "code",
   "execution_count": null,
   "id": "chemical-income",
   "metadata": {},
   "outputs": [],
   "source": [
    "nbs_model_1.to_csv(f'{OUT_DIR}neighbours/{LEX_NBS}_2019.csv')\n",
    "nbs_model_2.to_csv(f'{OUT_DIR}neighbours/{LEX_NBS}_2020.csv')"
   ]
  },
  {
   "cell_type": "markdown",
   "metadata": {},
   "source": [
    "## Social semantic variation"
   ]
  },
  {
   "cell_type": "markdown",
   "id": "timely-chorus",
   "metadata": {},
   "source": [
    "### Inspect subreddits"
   ]
  },
  {
   "cell_type": "markdown",
   "id": "certain-coordinator",
   "metadata": {},
   "source": [
    "#### read comments"
   ]
  },
  {
   "cell_type": "code",
   "execution_count": null,
   "metadata": {},
   "outputs": [],
   "source": [
    "comments_dir_path = Path('../data/comments/lexeme/')"
   ]
  },
  {
   "cell_type": "code",
   "execution_count": null,
   "metadata": {},
   "outputs": [],
   "source": [
    "comments_paths = list(comments_dir_path.glob(f'Covid*.csv'))"
   ]
  },
  {
   "cell_type": "code",
   "execution_count": null,
   "id": "tired-passing",
   "metadata": {},
   "outputs": [
    {
     "name": "stdout",
     "output_type": "stream",
     "text": [
      "CPU times: user 34.2 s, sys: 3.62 s, total: 37.8 s\n",
      "Wall time: 37.9 s\n"
     ]
    },
    {
     "data": {
      "text/html": [
       "<div>\n",
       "<style scoped>\n",
       "    .dataframe tbody tr th:only-of-type {\n",
       "        vertical-align: middle;\n",
       "    }\n",
       "\n",
       "    .dataframe tbody tr th {\n",
       "        vertical-align: top;\n",
       "    }\n",
       "\n",
       "    .dataframe thead th {\n",
       "        text-align: right;\n",
       "    }\n",
       "</style>\n",
       "<table border=\"1\" class=\"dataframe\">\n",
       "  <thead>\n",
       "    <tr style=\"text-align: right;\">\n",
       "      <th></th>\n",
       "      <th>author</th>\n",
       "      <th>body</th>\n",
       "      <th>created_utc</th>\n",
       "      <th>id</th>\n",
       "      <th>subreddit</th>\n",
       "    </tr>\n",
       "  </thead>\n",
       "  <tbody>\n",
       "    <tr>\n",
       "      <th>0</th>\n",
       "      <td>Gloob_Patrol</td>\n",
       "      <td>I assume you work too so he's feeling like he ...</td>\n",
       "      <td>2020-09-08 18:53:06</td>\n",
       "      <td>g4guhl5</td>\n",
       "      <td>LongDistance</td>\n",
       "    </tr>\n",
       "    <tr>\n",
       "      <th>1</th>\n",
       "      <td>amtrusc</td>\n",
       "      <td>Strep swab and culture negative, I’m sure? Cou...</td>\n",
       "      <td>2020-09-08 18:53:08</td>\n",
       "      <td>g4guhsm</td>\n",
       "      <td>tonsilstones</td>\n",
       "    </tr>\n",
       "    <tr>\n",
       "      <th>2</th>\n",
       "      <td>Ephuntz</td>\n",
       "      <td>&amp;gt;Good point. My apologies. It's just becomi...</td>\n",
       "      <td>2020-09-08 18:53:09</td>\n",
       "      <td>g4guhua</td>\n",
       "      <td>Winnipeg</td>\n",
       "    </tr>\n",
       "    <tr>\n",
       "      <th>3</th>\n",
       "      <td>cstransfer</td>\n",
       "      <td>Have you noticed an increase of people going e...</td>\n",
       "      <td>2020-09-08 18:53:09</td>\n",
       "      <td>g4guhu4</td>\n",
       "      <td>financialindependence</td>\n",
       "    </tr>\n",
       "    <tr>\n",
       "      <th>4</th>\n",
       "      <td>IlliniWhoDat</td>\n",
       "      <td>I haven't.  I have seen it online, but haven't...</td>\n",
       "      <td>2020-09-08 18:53:13</td>\n",
       "      <td>g4gui6o</td>\n",
       "      <td>KoreanBeauty</td>\n",
       "    </tr>\n",
       "    <tr>\n",
       "      <th>...</th>\n",
       "      <td>...</td>\n",
       "      <td>...</td>\n",
       "      <td>...</td>\n",
       "      <td>...</td>\n",
       "      <td>...</td>\n",
       "    </tr>\n",
       "    <tr>\n",
       "      <th>3800760</th>\n",
       "      <td>willw</td>\n",
       "      <td>Last group pre COVID!</td>\n",
       "      <td>2020-07-01 21:59:48</td>\n",
       "      <td>fwmqfbj</td>\n",
       "      <td>jawsurgery</td>\n",
       "    </tr>\n",
       "    <tr>\n",
       "      <th>3800761</th>\n",
       "      <td>Daikataro</td>\n",
       "      <td>If everyone is infected with COVID, new cases ...</td>\n",
       "      <td>2020-07-01 21:59:49</td>\n",
       "      <td>fwmqff2</td>\n",
       "      <td>politics</td>\n",
       "    </tr>\n",
       "    <tr>\n",
       "      <th>3800762</th>\n",
       "      <td>StabYourBloodIntoMe</td>\n",
       "      <td>&amp;gt; If the mortality rate is actually decreas...</td>\n",
       "      <td>2020-07-01 21:59:50</td>\n",
       "      <td>fwmqfib</td>\n",
       "      <td>dataisbeautiful</td>\n",
       "    </tr>\n",
       "    <tr>\n",
       "      <th>3800763</th>\n",
       "      <td>Shorse_rider</td>\n",
       "      <td>I was a freelancer until covid and earned more...</td>\n",
       "      <td>2020-07-01 21:59:55</td>\n",
       "      <td>fwmqfuw</td>\n",
       "      <td>AskWomen</td>\n",
       "    </tr>\n",
       "    <tr>\n",
       "      <th>3800764</th>\n",
       "      <td>Gayfetus</td>\n",
       "      <td>This is actually fascinating and possibly incr...</td>\n",
       "      <td>2020-07-01 21:59:57</td>\n",
       "      <td>fwmqfz0</td>\n",
       "      <td>Coronavirus</td>\n",
       "    </tr>\n",
       "  </tbody>\n",
       "</table>\n",
       "<p>3800765 rows × 5 columns</p>\n",
       "</div>"
      ],
      "text/plain": [
       "                      author  \\\n",
       "0               Gloob_Patrol   \n",
       "1                    amtrusc   \n",
       "2                    Ephuntz   \n",
       "3                 cstransfer   \n",
       "4               IlliniWhoDat   \n",
       "...                      ...   \n",
       "3800760                willw   \n",
       "3800761            Daikataro   \n",
       "3800762  StabYourBloodIntoMe   \n",
       "3800763         Shorse_rider   \n",
       "3800764             Gayfetus   \n",
       "\n",
       "                                                      body  \\\n",
       "0        I assume you work too so he's feeling like he ...   \n",
       "1        Strep swab and culture negative, I’m sure? Cou...   \n",
       "2        &gt;Good point. My apologies. It's just becomi...   \n",
       "3        Have you noticed an increase of people going e...   \n",
       "4        I haven't.  I have seen it online, but haven't...   \n",
       "...                                                    ...   \n",
       "3800760                              Last group pre COVID!   \n",
       "3800761  If everyone is infected with COVID, new cases ...   \n",
       "3800762  &gt; If the mortality rate is actually decreas...   \n",
       "3800763  I was a freelancer until covid and earned more...   \n",
       "3800764  This is actually fascinating and possibly incr...   \n",
       "\n",
       "                created_utc       id              subreddit  \n",
       "0       2020-09-08 18:53:06  g4guhl5           LongDistance  \n",
       "1       2020-09-08 18:53:08  g4guhsm           tonsilstones  \n",
       "2       2020-09-08 18:53:09  g4guhua               Winnipeg  \n",
       "3       2020-09-08 18:53:09  g4guhu4  financialindependence  \n",
       "4       2020-09-08 18:53:13  g4gui6o           KoreanBeauty  \n",
       "...                     ...      ...                    ...  \n",
       "3800760 2020-07-01 21:59:48  fwmqfbj             jawsurgery  \n",
       "3800761 2020-07-01 21:59:49  fwmqff2               politics  \n",
       "3800762 2020-07-01 21:59:50  fwmqfib        dataisbeautiful  \n",
       "3800763 2020-07-01 21:59:55  fwmqfuw               AskWomen  \n",
       "3800764 2020-07-01 21:59:57  fwmqfz0            Coronavirus  \n",
       "\n",
       "[3800765 rows x 5 columns]"
      ]
     },
     "execution_count": null,
     "metadata": {},
     "output_type": "execute_result"
    }
   ],
   "source": [
    "%%time\n",
    "comments = read_comm_csvs(comments_paths)\n",
    "comments"
   ]
  },
  {
   "cell_type": "markdown",
   "metadata": {},
   "source": [
    "TODO: filter comments\n",
    "\n",
    "- [ ] remove duplicates\n",
    "- [ ] remove bots"
   ]
  },
  {
   "cell_type": "markdown",
   "id": "exclusive-rocket",
   "metadata": {},
   "source": [
    "#### get subreddit counts"
   ]
  },
  {
   "cell_type": "code",
   "execution_count": null,
   "id": "dried-shoot",
   "metadata": {},
   "outputs": [],
   "source": [
    "subr_counts = get_subr_counts(comments)"
   ]
  },
  {
   "cell_type": "code",
   "execution_count": null,
   "id": "substantial-spider",
   "metadata": {},
   "outputs": [
    {
     "data": {
      "text/html": [
       "\n",
       "<div id=\"altair-viz-be48b7c570e146cbb8e25c8f162c7758\"></div>\n",
       "<script type=\"text/javascript\">\n",
       "  var VEGA_DEBUG = (typeof VEGA_DEBUG == \"undefined\") ? {} : VEGA_DEBUG;\n",
       "  (function(spec, embedOpt){\n",
       "    let outputDiv = document.currentScript.previousElementSibling;\n",
       "    if (outputDiv.id !== \"altair-viz-be48b7c570e146cbb8e25c8f162c7758\") {\n",
       "      outputDiv = document.getElementById(\"altair-viz-be48b7c570e146cbb8e25c8f162c7758\");\n",
       "    }\n",
       "    const paths = {\n",
       "      \"vega\": \"https://cdn.jsdelivr.net/npm//vega@5?noext\",\n",
       "      \"vega-lib\": \"https://cdn.jsdelivr.net/npm//vega-lib?noext\",\n",
       "      \"vega-lite\": \"https://cdn.jsdelivr.net/npm//vega-lite@4.17.0?noext\",\n",
       "      \"vega-embed\": \"https://cdn.jsdelivr.net/npm//vega-embed@6?noext\",\n",
       "    };\n",
       "\n",
       "    function maybeLoadScript(lib, version) {\n",
       "      var key = `${lib.replace(\"-\", \"\")}_version`;\n",
       "      return (VEGA_DEBUG[key] == version) ?\n",
       "        Promise.resolve(paths[lib]) :\n",
       "        new Promise(function(resolve, reject) {\n",
       "          var s = document.createElement('script');\n",
       "          document.getElementsByTagName(\"head\")[0].appendChild(s);\n",
       "          s.async = true;\n",
       "          s.onload = () => {\n",
       "            VEGA_DEBUG[key] = version;\n",
       "            return resolve(paths[lib]);\n",
       "          };\n",
       "          s.onerror = () => reject(`Error loading script: ${paths[lib]}`);\n",
       "          s.src = paths[lib];\n",
       "        });\n",
       "    }\n",
       "\n",
       "    function showError(err) {\n",
       "      outputDiv.innerHTML = `<div class=\"error\" style=\"color:red;\">${err}</div>`;\n",
       "      throw err;\n",
       "    }\n",
       "\n",
       "    function displayChart(vegaEmbed) {\n",
       "      vegaEmbed(outputDiv, spec, embedOpt)\n",
       "        .catch(err => showError(`Javascript Error: ${err.message}<br>This usually means there's a typo in your chart specification. See the javascript console for the full traceback.`));\n",
       "    }\n",
       "\n",
       "    if(typeof define === \"function\" && define.amd) {\n",
       "      requirejs.config({paths});\n",
       "      require([\"vega-embed\"], displayChart, err => showError(`Error loading script: ${err.message}`));\n",
       "    } else {\n",
       "      maybeLoadScript(\"vega\", \"5\")\n",
       "        .then(() => maybeLoadScript(\"vega-lite\", \"4.17.0\"))\n",
       "        .then(() => maybeLoadScript(\"vega-embed\", \"6\"))\n",
       "        .catch(showError)\n",
       "        .then(() => displayChart(vegaEmbed));\n",
       "    }\n",
       "  })({\"config\": {\"view\": {\"continuousWidth\": 400, \"continuousHeight\": 300}}, \"data\": {\"name\": \"data-4458ddb2ac6f25acdcc8df0cbd1ee925\"}, \"mark\": \"bar\", \"encoding\": {\"x\": {\"field\": \"comments_num\", \"type\": \"quantitative\"}, \"y\": {\"field\": \"subreddit\", \"sort\": \"-x\", \"type\": \"nominal\"}}, \"$schema\": \"https://vega.github.io/schema/vega-lite/v4.17.0.json\", \"datasets\": {\"data-4458ddb2ac6f25acdcc8df0cbd1ee925\": [{\"subreddit\": \"Coronavirus\", \"comments_num\": 173397}, {\"subreddit\": \"AskReddit\", \"comments_num\": 142358}, {\"subreddit\": \"politics\", \"comments_num\": 136270}, {\"subreddit\": \"worldnews\", \"comments_num\": 87336}, {\"subreddit\": \"news\", \"comments_num\": 55561}, {\"subreddit\": \"conspiracy\", \"comments_num\": 52780}, {\"subreddit\": \"wallstreetbets\", \"comments_num\": 40424}, {\"subreddit\": \"DDnews\", \"comments_num\": 37062}, {\"subreddit\": \"AmItheAsshole\", \"comments_num\": 35861}, {\"subreddit\": \"pics\", \"comments_num\": 27597}, {\"subreddit\": \"ukpolitics\", \"comments_num\": 25970}, {\"subreddit\": \"LockdownSkepticism\", \"comments_num\": 22906}, {\"subreddit\": \"PublicFreakout\", \"comments_num\": 22891}, {\"subreddit\": \"canada\", \"comments_num\": 22754}, {\"subreddit\": \"Conservative\", \"comments_num\": 21673}, {\"subreddit\": \"nfl\", \"comments_num\": 20222}, {\"subreddit\": \"memes\", \"comments_num\": 18200}, {\"subreddit\": \"COVID19\", \"comments_num\": 17570}, {\"subreddit\": \"ontario\", \"comments_num\": 16386}, {\"subreddit\": \"relationship_advice\", \"comments_num\": 16143}]}}, {\"mode\": \"vega-lite\"});\n",
       "</script>"
      ],
      "text/plain": [
       "alt.Chart(...)"
      ]
     },
     "execution_count": null,
     "metadata": {},
     "output_type": "execute_result"
    }
   ],
   "source": [
    "subr_counts_plt = plot_subr_counts(subr_counts, k=20)\n",
    "subr_counts_plt"
   ]
  },
  {
   "cell_type": "code",
   "execution_count": null,
   "id": "conventional-funeral",
   "metadata": {},
   "outputs": [],
   "source": [
    "subr_counts_plt.save(f'{OUT_DIR}subr_counts.png', scale_factor=2.0)"
   ]
  },
  {
   "cell_type": "markdown",
   "id": "valued-kentucky",
   "metadata": {},
   "source": [
    "## Train models"
   ]
  },
  {
   "cell_type": "code",
   "execution_count": null,
   "metadata": {},
   "outputs": [],
   "source": [
    "COMMENTS_DIR_SUBR = '../data/comments/subr/'"
   ]
  },
  {
   "cell_type": "code",
   "execution_count": null,
   "id": "electronic-latitude",
   "metadata": {},
   "outputs": [],
   "source": [
    "SUBR = 'Coronavirus'"
   ]
  },
  {
   "cell_type": "code",
   "execution_count": null,
   "id": "difficult-divorce",
   "metadata": {},
   "outputs": [],
   "source": [
    "fpaths = get_comments_paths_subr(COMMENTS_DIR_SUBR, SUBR)"
   ]
  },
  {
   "cell_type": "code",
   "execution_count": null,
   "id": "metallic-tolerance",
   "metadata": {},
   "outputs": [
    {
     "name": "stdout",
     "output_type": "stream",
     "text": [
      "CPU times: user 24 s, sys: 2.71 s, total: 26.7 s\n",
      "Wall time: 26.8 s\n"
     ]
    }
   ],
   "source": [
    "%%time\n",
    "comments = read_comm_csvs(fpaths)"
   ]
  },
  {
   "cell_type": "code",
   "execution_count": null,
   "id": "equipped-tribe",
   "metadata": {},
   "outputs": [
    {
     "name": "stdout",
     "output_type": "stream",
     "text": [
      "conv_to_lowerc       (4121144, 5) 0:00:03.492902      \n",
      "rm_punct             (4121144, 5) 0:00:26.037508      \n",
      "tokenize             (4121144, 5) 0:03:10.999946      \n",
      "rem_short_comments   (3462555, 5) 0:00:58.288521      \n",
      "CPU times: user 1min 4s, sys: 1min 29s, total: 2min 33s\n",
      "Wall time: 4min 57s\n"
     ]
    }
   ],
   "source": [
    "%%time\n",
    "comments = clean_comments(comments)"
   ]
  },
  {
   "cell_type": "code",
   "execution_count": null,
   "metadata": {},
   "outputs": [
    {
     "data": {
      "text/html": [
       "<div>\n",
       "<style scoped>\n",
       "    .dataframe tbody tr th:only-of-type {\n",
       "        vertical-align: middle;\n",
       "    }\n",
       "\n",
       "    .dataframe tbody tr th {\n",
       "        vertical-align: top;\n",
       "    }\n",
       "\n",
       "    .dataframe thead th {\n",
       "        text-align: right;\n",
       "    }\n",
       "</style>\n",
       "<table border=\"1\" class=\"dataframe\">\n",
       "  <thead>\n",
       "    <tr style=\"text-align: right;\">\n",
       "      <th></th>\n",
       "      <th>author</th>\n",
       "      <th>body</th>\n",
       "      <th>created_utc</th>\n",
       "      <th>id</th>\n",
       "      <th>subreddit</th>\n",
       "    </tr>\n",
       "  </thead>\n",
       "  <tbody>\n",
       "    <tr>\n",
       "      <th>0</th>\n",
       "      <td>bikbar1</td>\n",
       "      <td>[gt, but, it, s, still, impossible, to, hide, ...</td>\n",
       "      <td>2020-09-06 10:11:45</td>\n",
       "      <td>g47wejw</td>\n",
       "      <td>Coronavirus</td>\n",
       "    </tr>\n",
       "    <tr>\n",
       "      <th>1</th>\n",
       "      <td>righteousprovidence</td>\n",
       "      <td>[my, guess, is, americans, don, t, see, weldin...</td>\n",
       "      <td>2020-09-06 10:13:17</td>\n",
       "      <td>g47whmx</td>\n",
       "      <td>Coronavirus</td>\n",
       "    </tr>\n",
       "    <tr>\n",
       "      <th>2</th>\n",
       "      <td>liriodendron1</td>\n",
       "      <td>[i, dont, want, compensation, i, want, it, to,...</td>\n",
       "      <td>2020-09-06 10:13:27</td>\n",
       "      <td>g47whzg</td>\n",
       "      <td>Coronavirus</td>\n",
       "    </tr>\n",
       "    <tr>\n",
       "      <th>3</th>\n",
       "      <td>ArbitraryBaker</td>\n",
       "      <td>[except, the, testing, is, flawed, too, have, ...</td>\n",
       "      <td>2020-09-06 10:14:02</td>\n",
       "      <td>g47wj5l</td>\n",
       "      <td>Coronavirus</td>\n",
       "    </tr>\n",
       "    <tr>\n",
       "      <th>4</th>\n",
       "      <td>mogambis</td>\n",
       "      <td>[little, did, he, know, she, is, an, it]</td>\n",
       "      <td>2020-09-06 10:15:33</td>\n",
       "      <td>g47wm3e</td>\n",
       "      <td>Coronavirus</td>\n",
       "    </tr>\n",
       "    <tr>\n",
       "      <th>...</th>\n",
       "      <td>...</td>\n",
       "      <td>...</td>\n",
       "      <td>...</td>\n",
       "      <td>...</td>\n",
       "      <td>...</td>\n",
       "    </tr>\n",
       "    <tr>\n",
       "      <th>4121139</th>\n",
       "      <td>LouQuacious</td>\n",
       "      <td>[it, s, the, 21st, century, no, excuse, for, n...</td>\n",
       "      <td>2020-12-14 22:59:46</td>\n",
       "      <td>gfv1k7s</td>\n",
       "      <td>Coronavirus</td>\n",
       "    </tr>\n",
       "    <tr>\n",
       "      <th>4121140</th>\n",
       "      <td>immibis</td>\n",
       "      <td>[covid, has, a, 1, in, 500, side, effect, of, ...</td>\n",
       "      <td>2020-12-14 22:59:50</td>\n",
       "      <td>gfv1kho</td>\n",
       "      <td>Coronavirus</td>\n",
       "    </tr>\n",
       "    <tr>\n",
       "      <th>4121141</th>\n",
       "      <td>starlordbg</td>\n",
       "      <td>[i, would, personally, wait, a, few, years, to...</td>\n",
       "      <td>2020-12-14 22:59:53</td>\n",
       "      <td>gfv1kqa</td>\n",
       "      <td>Coronavirus</td>\n",
       "    </tr>\n",
       "    <tr>\n",
       "      <th>4121142</th>\n",
       "      <td>ihadanamebutforgot</td>\n",
       "      <td>[cool, dude, lemme, know, when, science, eradi...</td>\n",
       "      <td>2020-12-14 22:59:57</td>\n",
       "      <td>gfv1kzb</td>\n",
       "      <td>Coronavirus</td>\n",
       "    </tr>\n",
       "    <tr>\n",
       "      <th>4121143</th>\n",
       "      <td>Iknowwecanmakeit</td>\n",
       "      <td>[hey, someone, has, to, represent, businesses, s]</td>\n",
       "      <td>2020-12-14 22:59:57</td>\n",
       "      <td>gfv1l1e</td>\n",
       "      <td>Coronavirus</td>\n",
       "    </tr>\n",
       "  </tbody>\n",
       "</table>\n",
       "<p>3462555 rows × 5 columns</p>\n",
       "</div>"
      ],
      "text/plain": [
       "                      author  \\\n",
       "0                    bikbar1   \n",
       "1        righteousprovidence   \n",
       "2              liriodendron1   \n",
       "3             ArbitraryBaker   \n",
       "4                   mogambis   \n",
       "...                      ...   \n",
       "4121139          LouQuacious   \n",
       "4121140              immibis   \n",
       "4121141           starlordbg   \n",
       "4121142   ihadanamebutforgot   \n",
       "4121143     Iknowwecanmakeit   \n",
       "\n",
       "                                                      body  \\\n",
       "0        [gt, but, it, s, still, impossible, to, hide, ...   \n",
       "1        [my, guess, is, americans, don, t, see, weldin...   \n",
       "2        [i, dont, want, compensation, i, want, it, to,...   \n",
       "3        [except, the, testing, is, flawed, too, have, ...   \n",
       "4                 [little, did, he, know, she, is, an, it]   \n",
       "...                                                    ...   \n",
       "4121139  [it, s, the, 21st, century, no, excuse, for, n...   \n",
       "4121140  [covid, has, a, 1, in, 500, side, effect, of, ...   \n",
       "4121141  [i, would, personally, wait, a, few, years, to...   \n",
       "4121142  [cool, dude, lemme, know, when, science, eradi...   \n",
       "4121143  [hey, someone, has, to, represent, businesses, s]   \n",
       "\n",
       "                created_utc       id    subreddit  \n",
       "0       2020-09-06 10:11:45  g47wejw  Coronavirus  \n",
       "1       2020-09-06 10:13:17  g47whmx  Coronavirus  \n",
       "2       2020-09-06 10:13:27  g47whzg  Coronavirus  \n",
       "3       2020-09-06 10:14:02  g47wj5l  Coronavirus  \n",
       "4       2020-09-06 10:15:33  g47wm3e  Coronavirus  \n",
       "...                     ...      ...          ...  \n",
       "4121139 2020-12-14 22:59:46  gfv1k7s  Coronavirus  \n",
       "4121140 2020-12-14 22:59:50  gfv1kho  Coronavirus  \n",
       "4121141 2020-12-14 22:59:53  gfv1kqa  Coronavirus  \n",
       "4121142 2020-12-14 22:59:57  gfv1kzb  Coronavirus  \n",
       "4121143 2020-12-14 22:59:57  gfv1l1e  Coronavirus  \n",
       "\n",
       "[3462555 rows x 5 columns]"
      ]
     },
     "execution_count": null,
     "metadata": {},
     "output_type": "execute_result"
    }
   ],
   "source": [
    "comments"
   ]
  },
  {
   "cell_type": "code",
   "execution_count": null,
   "id": "beneficial-disclosure",
   "metadata": {},
   "outputs": [],
   "source": [
    "corpus = Corpus(comments['body'])"
   ]
  },
  {
   "cell_type": "code",
   "execution_count": null,
   "id": "lesbian-signature",
   "metadata": {},
   "outputs": [
    {
     "name": "stdout",
     "output_type": "stream",
     "text": [
      "CPU times: user 27min 59s, sys: 45.9 s, total: 28min 45s\n",
      "Wall time: 6min 48s\n"
     ]
    }
   ],
   "source": [
    "%%time\n",
    "model = train_model(corpus)"
   ]
  },
  {
   "cell_type": "code",
   "execution_count": null,
   "id": "copyrighted-portal",
   "metadata": {},
   "outputs": [
    {
     "data": {
      "text/plain": [
       "94816"
      ]
     },
     "execution_count": null,
     "metadata": {},
     "output_type": "execute_result"
    }
   ],
   "source": [
    "len(model.wv.key_to_index)"
   ]
  },
  {
   "cell_type": "code",
   "execution_count": null,
   "id": "sudden-keeping",
   "metadata": {},
   "outputs": [],
   "source": [
    "model.save(f'{OUT_DIR}models/{SUBR}.model')"
   ]
  },
  {
   "cell_type": "markdown",
   "id": "champion-necessity",
   "metadata": {},
   "source": [
    "## Load models"
   ]
  },
  {
   "cell_type": "code",
   "execution_count": null,
   "id": "median-artist",
   "metadata": {},
   "outputs": [],
   "source": [
    "SUBRS = ['Coronavirus', 'conspiracy']"
   ]
  },
  {
   "cell_type": "code",
   "execution_count": null,
   "id": "hired-agent",
   "metadata": {},
   "outputs": [],
   "source": [
    "model_1 = Word2Vec.load(f'{OUT_DIR}models/{SUBRS[0]}.model')"
   ]
  },
  {
   "cell_type": "code",
   "execution_count": null,
   "id": "hired-agent",
   "metadata": {},
   "outputs": [],
   "source": [
    "model_2 = Word2Vec.load(f'{OUT_DIR}models/{SUBRS[1]}.model')"
   ]
  },
  {
   "cell_type": "markdown",
   "id": "studied-blank",
   "metadata": {},
   "source": [
    "### Align models"
   ]
  },
  {
   "cell_type": "code",
   "execution_count": null,
   "id": "copyrighted-portal",
   "metadata": {},
   "outputs": [],
   "source": [
    "model_1_vocab = len(model_1.wv.key_to_index)\n",
    "model_2_vocab = len(model_2.wv.key_to_index)"
   ]
  },
  {
   "cell_type": "code",
   "execution_count": null,
   "id": "executed-clerk",
   "metadata": {},
   "outputs": [
    {
     "name": "stdout",
     "output_type": "stream",
     "text": [
      "67181 67181\n",
      "67181 67181\n"
     ]
    },
    {
     "data": {
      "text/plain": [
       "<gensim.models.word2vec.Word2Vec at 0x1c5394850>"
      ]
     },
     "execution_count": null,
     "metadata": {},
     "output_type": "execute_result"
    }
   ],
   "source": [
    "smart_procrustes_align_gensim(model_1, model_2)"
   ]
  },
  {
   "cell_type": "code",
   "execution_count": null,
   "metadata": {},
   "outputs": [],
   "source": [
    "assert len(model_1.wv.key_to_index) == len(model_2.wv.vectors)"
   ]
  },
  {
   "cell_type": "code",
   "execution_count": null,
   "id": "metallic-cutting",
   "metadata": {},
   "outputs": [
    {
     "data": {
      "text/html": [
       "<div>\n",
       "<style scoped>\n",
       "    .dataframe tbody tr th:only-of-type {\n",
       "        vertical-align: middle;\n",
       "    }\n",
       "\n",
       "    .dataframe tbody tr th {\n",
       "        vertical-align: top;\n",
       "    }\n",
       "\n",
       "    .dataframe thead th {\n",
       "        text-align: right;\n",
       "    }\n",
       "</style>\n",
       "<table border=\"1\" class=\"dataframe\">\n",
       "  <thead>\n",
       "    <tr style=\"text-align: right;\">\n",
       "      <th></th>\n",
       "      <th>Model</th>\n",
       "      <th>Words</th>\n",
       "    </tr>\n",
       "  </thead>\n",
       "  <tbody>\n",
       "    <tr>\n",
       "      <th>0</th>\n",
       "      <td>Coronavirus</td>\n",
       "      <td>94816</td>\n",
       "    </tr>\n",
       "    <tr>\n",
       "      <th>1</th>\n",
       "      <td>conspiracy</td>\n",
       "      <td>112599</td>\n",
       "    </tr>\n",
       "    <tr>\n",
       "      <th>2</th>\n",
       "      <td>intersection</td>\n",
       "      <td>67181</td>\n",
       "    </tr>\n",
       "  </tbody>\n",
       "</table>\n",
       "</div>"
      ],
      "text/plain": [
       "          Model   Words\n",
       "0   Coronavirus   94816\n",
       "1    conspiracy  112599\n",
       "2  intersection   67181"
      ]
     },
     "execution_count": null,
     "metadata": {},
     "output_type": "execute_result"
    }
   ],
   "source": [
    "models_vocab = pd.DataFrame(\n",
    "    columns=['Model', 'Words'],\n",
    "    data=[\n",
    "        [SUBRS[0], model_1_vocab],\n",
    "        [SUBRS[1], model_2_vocab],\n",
    "        ['intersection', len(model_1.wv.key_to_index)]\n",
    "    ],\n",
    ")\n",
    "\n",
    "models_vocab"
   ]
  },
  {
   "cell_type": "code",
   "execution_count": null,
   "id": "mediterranean-skiing",
   "metadata": {},
   "outputs": [],
   "source": [
    "models_vocab.to_csv(f'{OUT_DIR}models_subrs_vocab.csv', index=False)"
   ]
  },
  {
   "cell_type": "markdown",
   "id": "vocational-lighting",
   "metadata": {},
   "source": [
    "### Measure distances"
   ]
  },
  {
   "cell_type": "code",
   "execution_count": null,
   "id": "unlikely-audio",
   "metadata": {},
   "outputs": [],
   "source": [
    "distances = measure_distances(model_1, model_2)"
   ]
  },
  {
   "cell_type": "code",
   "execution_count": null,
   "metadata": {},
   "outputs": [
    {
     "data": {
      "text/html": [
       "<div>\n",
       "<style scoped>\n",
       "    .dataframe tbody tr th:only-of-type {\n",
       "        vertical-align: middle;\n",
       "    }\n",
       "\n",
       "    .dataframe tbody tr th {\n",
       "        vertical-align: top;\n",
       "    }\n",
       "\n",
       "    .dataframe thead th {\n",
       "        text-align: right;\n",
       "    }\n",
       "</style>\n",
       "<table border=\"1\" class=\"dataframe\">\n",
       "  <thead>\n",
       "    <tr style=\"text-align: right;\">\n",
       "      <th></th>\n",
       "      <th>lex</th>\n",
       "      <th>dist_sem</th>\n",
       "      <th>freq_1</th>\n",
       "      <th>freq_2</th>\n",
       "    </tr>\n",
       "  </thead>\n",
       "  <tbody>\n",
       "    <tr>\n",
       "      <th>21288</th>\n",
       "      <td>ptb</td>\n",
       "      <td>1.144010</td>\n",
       "      <td>103</td>\n",
       "      <td>144</td>\n",
       "    </tr>\n",
       "    <tr>\n",
       "      <th>270</th>\n",
       "      <td>sticky</td>\n",
       "      <td>1.035551</td>\n",
       "      <td>76776</td>\n",
       "      <td>69776</td>\n",
       "    </tr>\n",
       "    <tr>\n",
       "      <th>18320</th>\n",
       "      <td>refraction</td>\n",
       "      <td>1.021251</td>\n",
       "      <td>142</td>\n",
       "      <td>196</td>\n",
       "    </tr>\n",
       "    <tr>\n",
       "      <th>9409</th>\n",
       "      <td>accumulative</td>\n",
       "      <td>1.011545</td>\n",
       "      <td>539</td>\n",
       "      <td>667</td>\n",
       "    </tr>\n",
       "    <tr>\n",
       "      <th>1262</th>\n",
       "      <td>pms</td>\n",
       "      <td>1.010546</td>\n",
       "      <td>11535</td>\n",
       "      <td>11405</td>\n",
       "    </tr>\n",
       "    <tr>\n",
       "      <th>3996</th>\n",
       "      <td>soliciting</td>\n",
       "      <td>0.989504</td>\n",
       "      <td>2233</td>\n",
       "      <td>2472</td>\n",
       "    </tr>\n",
       "    <tr>\n",
       "      <th>4719</th>\n",
       "      <td>resubmit</td>\n",
       "      <td>0.944866</td>\n",
       "      <td>1763</td>\n",
       "      <td>1928</td>\n",
       "    </tr>\n",
       "    <tr>\n",
       "      <th>895</th>\n",
       "      <td>ss</td>\n",
       "      <td>0.944818</td>\n",
       "      <td>18100</td>\n",
       "      <td>17373</td>\n",
       "    </tr>\n",
       "    <tr>\n",
       "      <th>16111</th>\n",
       "      <td>ets</td>\n",
       "      <td>0.933242</td>\n",
       "      <td>184</td>\n",
       "      <td>252</td>\n",
       "    </tr>\n",
       "    <tr>\n",
       "      <th>17845</th>\n",
       "      <td>waiters</td>\n",
       "      <td>0.929376</td>\n",
       "      <td>150</td>\n",
       "      <td>206</td>\n",
       "    </tr>\n",
       "    <tr>\n",
       "      <th>257</th>\n",
       "      <td>chain</td>\n",
       "      <td>0.929052</td>\n",
       "      <td>79084</td>\n",
       "      <td>73908</td>\n",
       "    </tr>\n",
       "    <tr>\n",
       "      <th>19967</th>\n",
       "      <td>curiously</td>\n",
       "      <td>0.928779</td>\n",
       "      <td>119</td>\n",
       "      <td>164</td>\n",
       "    </tr>\n",
       "    <tr>\n",
       "      <th>1210</th>\n",
       "      <td>subsequently</td>\n",
       "      <td>0.924492</td>\n",
       "      <td>12174</td>\n",
       "      <td>11956</td>\n",
       "    </tr>\n",
       "    <tr>\n",
       "      <th>16368</th>\n",
       "      <td>formats</td>\n",
       "      <td>0.921073</td>\n",
       "      <td>178</td>\n",
       "      <td>244</td>\n",
       "    </tr>\n",
       "    <tr>\n",
       "      <th>13569</th>\n",
       "      <td>anons</td>\n",
       "      <td>0.920570</td>\n",
       "      <td>259</td>\n",
       "      <td>351</td>\n",
       "    </tr>\n",
       "    <tr>\n",
       "      <th>20911</th>\n",
       "      <td>blacklivesmatter</td>\n",
       "      <td>0.918460</td>\n",
       "      <td>108</td>\n",
       "      <td>150</td>\n",
       "    </tr>\n",
       "    <tr>\n",
       "      <th>140</th>\n",
       "      <td>meta</td>\n",
       "      <td>0.917502</td>\n",
       "      <td>144695</td>\n",
       "      <td>156993</td>\n",
       "    </tr>\n",
       "    <tr>\n",
       "      <th>19917</th>\n",
       "      <td>redpill</td>\n",
       "      <td>0.914164</td>\n",
       "      <td>119</td>\n",
       "      <td>165</td>\n",
       "    </tr>\n",
       "    <tr>\n",
       "      <th>15058</th>\n",
       "      <td>derek</td>\n",
       "      <td>0.913568</td>\n",
       "      <td>211</td>\n",
       "      <td>288</td>\n",
       "    </tr>\n",
       "    <tr>\n",
       "      <th>14487</th>\n",
       "      <td>ic</td>\n",
       "      <td>0.902983</td>\n",
       "      <td>228</td>\n",
       "      <td>310</td>\n",
       "    </tr>\n",
       "  </tbody>\n",
       "</table>\n",
       "</div>"
      ],
      "text/plain": [
       "                    lex  dist_sem  freq_1  freq_2\n",
       "21288               ptb  1.144010     103     144\n",
       "270              sticky  1.035551   76776   69776\n",
       "18320        refraction  1.021251     142     196\n",
       "9409       accumulative  1.011545     539     667\n",
       "1262                pms  1.010546   11535   11405\n",
       "3996         soliciting  0.989504    2233    2472\n",
       "4719           resubmit  0.944866    1763    1928\n",
       "895                  ss  0.944818   18100   17373\n",
       "16111               ets  0.933242     184     252\n",
       "17845           waiters  0.929376     150     206\n",
       "257               chain  0.929052   79084   73908\n",
       "19967         curiously  0.928779     119     164\n",
       "1210       subsequently  0.924492   12174   11956\n",
       "16368           formats  0.921073     178     244\n",
       "13569             anons  0.920570     259     351\n",
       "20911  blacklivesmatter  0.918460     108     150\n",
       "140                meta  0.917502  144695  156993\n",
       "19917           redpill  0.914164     119     165\n",
       "15058             derek  0.913568     211     288\n",
       "14487                ic  0.902983     228     310"
      ]
     },
     "execution_count": null,
     "metadata": {},
     "output_type": "execute_result"
    }
   ],
   "source": [
    "freq_min = 100\n",
    "\n",
    "distances\\\n",
    "    .query('freq_1 > @freq_min and freq_2 > @freq_min')\\\n",
    "    .sort_values('dist_sem', ascending=False)\\\n",
    "    .head(20)\n"
   ]
  },
  {
   "cell_type": "code",
   "execution_count": null,
   "id": "hundred-russian",
   "metadata": {},
   "outputs": [],
   "source": [
    "LEX = 'incivility'"
   ]
  },
  {
   "cell_type": "code",
   "execution_count": null,
   "id": "partial-right",
   "metadata": {},
   "outputs": [
    {
     "data": {
      "text/html": [
       "<div>\n",
       "<style scoped>\n",
       "    .dataframe tbody tr th:only-of-type {\n",
       "        vertical-align: middle;\n",
       "    }\n",
       "\n",
       "    .dataframe tbody tr th {\n",
       "        vertical-align: top;\n",
       "    }\n",
       "\n",
       "    .dataframe thead th {\n",
       "        text-align: right;\n",
       "    }\n",
       "</style>\n",
       "<table border=\"1\" class=\"dataframe\">\n",
       "  <thead>\n",
       "    <tr style=\"text-align: right;\">\n",
       "      <th></th>\n",
       "      <th>model</th>\n",
       "      <th>lex</th>\n",
       "      <th>similarity</th>\n",
       "      <th>freq</th>\n",
       "    </tr>\n",
       "  </thead>\n",
       "  <tbody>\n",
       "    <tr>\n",
       "      <th>0</th>\n",
       "      <td>1</td>\n",
       "      <td>submission</td>\n",
       "      <td>0.441016</td>\n",
       "      <td>50354</td>\n",
       "    </tr>\n",
       "    <tr>\n",
       "      <th>1</th>\n",
       "      <td>1</td>\n",
       "      <td>sub</td>\n",
       "      <td>0.373823</td>\n",
       "      <td>74717</td>\n",
       "    </tr>\n",
       "    <tr>\n",
       "      <th>2</th>\n",
       "      <td>1</td>\n",
       "      <td>harping</td>\n",
       "      <td>0.301673</td>\n",
       "      <td>125</td>\n",
       "    </tr>\n",
       "    <tr>\n",
       "      <th>3</th>\n",
       "      <td>1</td>\n",
       "      <td>hellbent</td>\n",
       "      <td>0.296312</td>\n",
       "      <td>112</td>\n",
       "    </tr>\n",
       "    <tr>\n",
       "      <th>4</th>\n",
       "      <td>1</td>\n",
       "      <td>tack</td>\n",
       "      <td>0.292103</td>\n",
       "      <td>155</td>\n",
       "    </tr>\n",
       "    <tr>\n",
       "      <th>5</th>\n",
       "      <td>1</td>\n",
       "      <td>predicated</td>\n",
       "      <td>0.287444</td>\n",
       "      <td>185</td>\n",
       "    </tr>\n",
       "    <tr>\n",
       "      <th>6</th>\n",
       "      <td>1</td>\n",
       "      <td>fixated</td>\n",
       "      <td>0.283126</td>\n",
       "      <td>170</td>\n",
       "    </tr>\n",
       "    <tr>\n",
       "      <th>7</th>\n",
       "      <td>1</td>\n",
       "      <td>par</td>\n",
       "      <td>0.280482</td>\n",
       "      <td>1222</td>\n",
       "    </tr>\n",
       "    <tr>\n",
       "      <th>8</th>\n",
       "      <td>1</td>\n",
       "      <td>standby</td>\n",
       "      <td>0.272287</td>\n",
       "      <td>127</td>\n",
       "    </tr>\n",
       "    <tr>\n",
       "      <th>9</th>\n",
       "      <td>1</td>\n",
       "      <td>drags</td>\n",
       "      <td>0.271937</td>\n",
       "      <td>148</td>\n",
       "    </tr>\n",
       "  </tbody>\n",
       "</table>\n",
       "</div>"
      ],
      "text/plain": [
       "   model         lex  similarity   freq\n",
       "0      1  submission    0.441016  50354\n",
       "1      1         sub    0.373823  74717\n",
       "2      1     harping    0.301673    125\n",
       "3      1    hellbent    0.296312    112\n",
       "4      1        tack    0.292103    155\n",
       "5      1  predicated    0.287444    185\n",
       "6      1     fixated    0.283126    170\n",
       "7      1         par    0.280482   1222\n",
       "8      1     standby    0.272287    127\n",
       "9      1       drags    0.271937    148"
      ]
     },
     "metadata": {},
     "output_type": "display_data"
    },
    {
     "data": {
      "text/html": [
       "<div>\n",
       "<style scoped>\n",
       "    .dataframe tbody tr th:only-of-type {\n",
       "        vertical-align: middle;\n",
       "    }\n",
       "\n",
       "    .dataframe tbody tr th {\n",
       "        vertical-align: top;\n",
       "    }\n",
       "\n",
       "    .dataframe thead th {\n",
       "        text-align: right;\n",
       "    }\n",
       "</style>\n",
       "<table border=\"1\" class=\"dataframe\">\n",
       "  <thead>\n",
       "    <tr style=\"text-align: right;\">\n",
       "      <th></th>\n",
       "      <th>model</th>\n",
       "      <th>lex</th>\n",
       "      <th>similarity</th>\n",
       "      <th>freq</th>\n",
       "    </tr>\n",
       "  </thead>\n",
       "  <tbody>\n",
       "    <tr>\n",
       "      <th>21216</th>\n",
       "      <td>2</td>\n",
       "      <td>perma</td>\n",
       "      <td>0.353852</td>\n",
       "      <td>205</td>\n",
       "    </tr>\n",
       "    <tr>\n",
       "      <th>21217</th>\n",
       "      <td>2</td>\n",
       "      <td>mistook</td>\n",
       "      <td>0.321916</td>\n",
       "      <td>121</td>\n",
       "    </tr>\n",
       "    <tr>\n",
       "      <th>21218</th>\n",
       "      <td>2</td>\n",
       "      <td>thanked</td>\n",
       "      <td>0.311947</td>\n",
       "      <td>232</td>\n",
       "    </tr>\n",
       "    <tr>\n",
       "      <th>21219</th>\n",
       "      <td>2</td>\n",
       "      <td>thankyou</td>\n",
       "      <td>0.306021</td>\n",
       "      <td>131</td>\n",
       "    </tr>\n",
       "    <tr>\n",
       "      <th>21220</th>\n",
       "      <td>2</td>\n",
       "      <td>strategist</td>\n",
       "      <td>0.304107</td>\n",
       "      <td>196</td>\n",
       "    </tr>\n",
       "    <tr>\n",
       "      <th>21221</th>\n",
       "      <td>2</td>\n",
       "      <td>uncalled</td>\n",
       "      <td>0.302803</td>\n",
       "      <td>126</td>\n",
       "    </tr>\n",
       "    <tr>\n",
       "      <th>21222</th>\n",
       "      <td>2</td>\n",
       "      <td>purposes</td>\n",
       "      <td>0.300664</td>\n",
       "      <td>2766</td>\n",
       "    </tr>\n",
       "    <tr>\n",
       "      <th>21223</th>\n",
       "      <td>2</td>\n",
       "      <td>wrongthink</td>\n",
       "      <td>0.288576</td>\n",
       "      <td>251</td>\n",
       "    </tr>\n",
       "    <tr>\n",
       "      <th>21224</th>\n",
       "      <td>2</td>\n",
       "      <td>apologizes</td>\n",
       "      <td>0.284437</td>\n",
       "      <td>118</td>\n",
       "    </tr>\n",
       "    <tr>\n",
       "      <th>21225</th>\n",
       "      <td>2</td>\n",
       "      <td>ardern</td>\n",
       "      <td>0.282216</td>\n",
       "      <td>141</td>\n",
       "    </tr>\n",
       "  </tbody>\n",
       "</table>\n",
       "</div>"
      ],
      "text/plain": [
       "       model         lex  similarity  freq\n",
       "21216      2       perma    0.353852   205\n",
       "21217      2     mistook    0.321916   121\n",
       "21218      2     thanked    0.311947   232\n",
       "21219      2    thankyou    0.306021   131\n",
       "21220      2  strategist    0.304107   196\n",
       "21221      2    uncalled    0.302803   126\n",
       "21222      2    purposes    0.300664  2766\n",
       "21223      2  wrongthink    0.288576   251\n",
       "21224      2  apologizes    0.284437   118\n",
       "21225      2      ardern    0.282216   141"
      ]
     },
     "metadata": {},
     "output_type": "display_data"
    }
   ],
   "source": [
    "nbs_model_1, nbs_model_2 = get_nearest_neighbours_models(\n",
    "    lex=LEX, \n",
    "    freq_min=100,\n",
    "    model_1=model_1, \n",
    "    model_2=model_2,\n",
    "    k=10\n",
    ")\n",
    "\n",
    "display(nbs_model_1, nbs_model_2)"
   ]
  },
  {
   "cell_type": "code",
   "execution_count": null,
   "metadata": {},
   "outputs": [],
   "source": []
  }
 ],
 "metadata": {
  "kernelspec": {
   "display_name": "Python 3 (ipykernel)",
   "language": "python",
   "name": "python3"
  }
 },
 "nbformat": 4,
 "nbformat_minor": 4
}
