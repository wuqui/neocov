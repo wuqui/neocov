{
 "cells": [
  {
   "cell_type": "code",
   "execution_count": null,
   "metadata": {},
   "outputs": [],
   "source": [
    "%load_ext autoreload\n",
    "%autoreload 2"
   ]
  },
  {
   "cell_type": "code",
   "execution_count": null,
   "metadata": {},
   "outputs": [],
   "source": [
    "# all_data"
   ]
  },
  {
   "cell_type": "code",
   "execution_count": null,
   "metadata": {},
   "outputs": [],
   "source": [
    "from neocov.read_data import *\n",
    "from neocov.preproc import *\n",
    "from neocov.type_emb import *\n",
    "from neocov.communities import *"
   ]
  },
  {
   "cell_type": "code",
   "execution_count": null,
   "metadata": {},
   "outputs": [],
   "source": [
    "from gensim.models import Word2Vec\n",
    "import pandas as pd"
   ]
  },
  {
   "cell_type": "code",
   "execution_count": null,
   "metadata": {},
   "outputs": [],
   "source": [
    "DATA_DIR = '../data/'\n",
    "COMMENTS_DIAC_DIR = f'{DATA_DIR}comments/by_date/'\n",
    "OUT_DIR = '../out/'"
   ]
  },
  {
   "cell_type": "markdown",
   "metadata": {},
   "source": [
    "# NeoCov\n",
    "\n",
    "> Semantic change and social semantic variation of Covid-related English neologisms on Reddit."
   ]
  },
  {
   "cell_type": "markdown",
   "metadata": {},
   "source": [
    "## Variables"
   ]
  },
  {
   "cell_type": "markdown",
   "metadata": {},
   "source": [
    "## Semantic change"
   ]
  },
  {
   "cell_type": "markdown",
   "metadata": {},
   "source": [
    "### Read data"
   ]
  },
  {
   "cell_type": "markdown",
   "metadata": {},
   "source": [
    "#### Get file paths"
   ]
  },
  {
   "cell_type": "code",
   "execution_count": null,
   "metadata": {},
   "outputs": [],
   "source": [
    "YEAR = '2019'"
   ]
  },
  {
   "cell_type": "code",
   "execution_count": null,
   "metadata": {},
   "outputs": [],
   "source": [
    "comment_paths_year = get_comments_paths_year(COMMENTS_DIAC_DIR, YEAR)"
   ]
  },
  {
   "cell_type": "markdown",
   "metadata": {},
   "source": [
    "#### Read comments"
   ]
  },
  {
   "cell_type": "code",
   "execution_count": null,
   "metadata": {},
   "outputs": [],
   "source": [
    "%%time\n",
    "comments = read_comm_csvs(comment_paths_year)"
   ]
  },
  {
   "cell_type": "code",
   "execution_count": null,
   "metadata": {},
   "outputs": [],
   "source": [
    "comments"
   ]
  },
  {
   "cell_type": "markdown",
   "metadata": {},
   "source": [
    "### Pre-process comments"
   ]
  },
  {
   "cell_type": "code",
   "execution_count": null,
   "id": "equipped-tribe",
   "metadata": {},
   "outputs": [],
   "source": [
    "%%time\n",
    "comments = clean_comments(comments)"
   ]
  },
  {
   "cell_type": "markdown",
   "metadata": {},
   "source": [
    "### Train models"
   ]
  },
  {
   "cell_type": "markdown",
   "id": "finished-driving",
   "metadata": {},
   "source": [
    "#### Create corpus"
   ]
  },
  {
   "cell_type": "code",
   "execution_count": null,
   "id": "beneficial-disclosure",
   "metadata": {},
   "outputs": [],
   "source": [
    "corpus = Corpus(comments['body'])"
   ]
  },
  {
   "cell_type": "markdown",
   "metadata": {},
   "source": [
    "#### Train model"
   ]
  },
  {
   "cell_type": "code",
   "execution_count": null,
   "id": "lesbian-signature",
   "metadata": {},
   "outputs": [],
   "source": [
    "%%time\n",
    "model = train_model(corpus)"
   ]
  },
  {
   "cell_type": "code",
   "execution_count": null,
   "id": "copyrighted-portal",
   "metadata": {},
   "outputs": [],
   "source": [
    "len(model.wv.key_to_index)"
   ]
  },
  {
   "cell_type": "markdown",
   "id": "empty-flash",
   "metadata": {},
   "source": [
    "#### Save model"
   ]
  },
  {
   "cell_type": "code",
   "execution_count": null,
   "id": "juvenile-resource",
   "metadata": {},
   "outputs": [],
   "source": [
    "model.save(f'{OUT_DIR}models/{YEAR}.model')"
   ]
  },
  {
   "cell_type": "markdown",
   "id": "champion-necessity",
   "metadata": {},
   "source": [
    "#### Load models"
   ]
  },
  {
   "cell_type": "code",
   "execution_count": null,
   "id": "crazy-reduction",
   "metadata": {},
   "outputs": [],
   "source": [
    "model_2019 = Word2Vec.load(f'{OUT_DIR}models/2019.model')"
   ]
  },
  {
   "cell_type": "code",
   "execution_count": null,
   "id": "respective-surfing",
   "metadata": {},
   "outputs": [],
   "source": [
    "model_2020 = Word2Vec.load(f'{OUT_DIR}models/2020.model')"
   ]
  },
  {
   "cell_type": "markdown",
   "id": "studied-blank",
   "metadata": {},
   "source": [
    "### Align models"
   ]
  },
  {
   "cell_type": "code",
   "execution_count": null,
   "id": "copyrighted-portal",
   "metadata": {},
   "outputs": [],
   "source": [
    "model_2019_vocab = len(model_2019.wv.key_to_index)\n",
    "model_2020_vocab = len(model_2020.wv.key_to_index)"
   ]
  },
  {
   "cell_type": "code",
   "execution_count": null,
   "id": "hearing-awareness",
   "metadata": {},
   "outputs": [],
   "source": [
    "smart_procrustes_align_gensim(model_2019, model_2020)"
   ]
  },
  {
   "cell_type": "code",
   "execution_count": null,
   "metadata": {},
   "outputs": [],
   "source": [
    "assert len(model_2019.wv.key_to_index) == len(model_2020.wv.vectors)"
   ]
  },
  {
   "cell_type": "code",
   "execution_count": null,
   "id": "metallic-cutting",
   "metadata": {},
   "outputs": [],
   "source": [
    "models_vocab = pd.DataFrame(\n",
    "    columns=['Model', 'Words'],\n",
    "    data=[\n",
    "        ['2019', model_2019_vocab],\n",
    "        ['2020', model_2020_vocab],\n",
    "        ['intersection', len(model_2019.wv.key_to_index)]\n",
    "    ],\n",
    ")\n",
    "\n",
    "models_vocab"
   ]
  },
  {
   "cell_type": "code",
   "execution_count": null,
   "id": "mediterranean-skiing",
   "metadata": {},
   "outputs": [],
   "source": [
    "models_vocab.to_csv(f'{OUT_DIR}models_vocab.csv', index=False)"
   ]
  },
  {
   "cell_type": "markdown",
   "id": "vocational-lighting",
   "metadata": {},
   "source": [
    "### Measure distances"
   ]
  },
  {
   "cell_type": "code",
   "execution_count": null,
   "id": "numerical-closing",
   "metadata": {},
   "outputs": [],
   "source": [
    "distances = measure_distances(model_2019, model_2020)"
   ]
  },
  {
   "cell_type": "code",
   "execution_count": null,
   "metadata": {},
   "outputs": [],
   "source": [
    "distances\\\n",
    "    .sort_values('dist_sem', ascending=False)\n"
   ]
  },
  {
   "cell_type": "markdown",
   "metadata": {},
   "source": [
    "TODO: filter by true type frequency; `Gensim`'s type frequency seems incorrect; it probably reflects frequency ranks instead of total counts."
   ]
  },
  {
   "cell_type": "code",
   "execution_count": null,
   "id": "canadian-cannon",
   "metadata": {},
   "outputs": [],
   "source": [
    "def get_sem_change_cands(distances, k=10, freq_min=1):\n",
    "    sem_change_cands = (distances\n",
    "        .query('freq_1 > @freq_min and freq_2 > @freq_min')\n",
    "        .query('lex.str.isalpha() == True')\n",
    "        .query('lex.str.len() > 3')\n",
    "        .nlargest(k, 'dist_sem')\n",
    "        .reset_index(drop=True)\n",
    "        )\n",
    "    return sem_change_cands"
   ]
  },
  {
   "cell_type": "code",
   "execution_count": null,
   "id": "canadian-cannon",
   "metadata": {},
   "outputs": [],
   "source": [
    "k = 20\n",
    "freq_min = 1_000\n",
    "\n",
    "sem_change_cands = distances\\\n",
    "    .query('freq_1 > @freq_min and freq_2 > @freq_min')\\\n",
    "    .query('lex.str.isalpha() == True')\\\n",
    "    .query('lex.str.len() > 3')\\\n",
    "    .nlargest(k, 'dist_sem')\\\n",
    "    .reset_index(drop=True)\n",
    "\n",
    "sem_change_cands"
   ]
  },
  {
   "cell_type": "code",
   "execution_count": null,
   "id": "restricted-meter",
   "metadata": {},
   "outputs": [],
   "source": [
    "sem_change_cands_out = sem_change_cands\\\n",
    "    .nlargest(100, 'dist_sem')\\\n",
    "    .assign(index_1 = lambda df: df.index + 1)\\\n",
    "    .assign(dist_sem = lambda df: df['dist_sem'].round(2))\\\n",
    "    .assign(dist_sem = lambda df: df['dist_sem'].apply('{:.2f}'.format))\\\n",
    "    .rename({'index_1': '', 'lex': 'Lexeme', 'dist_sem': 'SemDist'}, axis=1)\n",
    "\n",
    "sem_change_cands_out.head(20)"
   ]
  },
  {
   "cell_type": "code",
   "execution_count": null,
   "metadata": {},
   "outputs": [],
   "source": [
    "sem_change_cands_out.to_csv(\n",
    "        f'{OUT_DIR}sem_change_cands.csv',\n",
    "        columns=['', 'Lexeme', 'SemDist'],\n",
    "        index=False\n",
    "    )"
   ]
  },
  {
   "cell_type": "markdown",
   "id": "chemical-tomato",
   "metadata": {},
   "source": [
    "### Inspect nearest neighbours of lexemes"
   ]
  },
  {
   "cell_type": "code",
   "execution_count": null,
   "id": "individual-inclusion",
   "metadata": {},
   "outputs": [],
   "source": [
    "LEX_NBS = 'distancing'"
   ]
  },
  {
   "cell_type": "code",
   "execution_count": null,
   "id": "cellular-majority",
   "metadata": {},
   "outputs": [],
   "source": [
    "nbs_model_1, nbs_model_2 = get_nearest_neighbours_models(\n",
    "    lex=LEX_NBS, \n",
    "    freq_min=50,\n",
    "    model_1=model_2019, \n",
    "    model_2=model_2020\n",
    ")\n",
    "\n",
    "display(\n",
    "    nbs_model_1,\n",
    "    nbs_model_2\n",
    ")"
   ]
  },
  {
   "cell_type": "code",
   "execution_count": null,
   "id": "chemical-income",
   "metadata": {},
   "outputs": [],
   "source": [
    "nbs_model_1.to_csv(f'{OUT_DIR}neighbours/{LEX_NBS}_2019.csv')\n",
    "nbs_model_2.to_csv(f'{OUT_DIR}neighbours/{LEX_NBS}_2020.csv')"
   ]
  },
  {
   "cell_type": "markdown",
   "metadata": {},
   "source": [
    "## Social semantic variation"
   ]
  },
  {
   "cell_type": "markdown",
   "id": "timely-chorus",
   "metadata": {},
   "source": [
    "### Inspect subreddits"
   ]
  },
  {
   "cell_type": "markdown",
   "id": "certain-coordinator",
   "metadata": {},
   "source": [
    "#### read comments"
   ]
  },
  {
   "cell_type": "code",
   "execution_count": null,
   "id": "cardiovascular-million",
   "metadata": {},
   "outputs": [],
   "source": [
    "YEAR = 2019"
   ]
  },
  {
   "cell_type": "code",
   "execution_count": null,
   "id": "ordinary-clearing",
   "metadata": {},
   "outputs": [],
   "source": [
    "comments_paths = get_comments_paths_year(COMMENTS_DIAC_DIR, YEAR)"
   ]
  },
  {
   "cell_type": "code",
   "execution_count": null,
   "id": "tired-passing",
   "metadata": {},
   "outputs": [
    {
     "name": "stdout",
     "output_type": "stream",
     "text": [
      "CPU times: user 48.6 s, sys: 6.54 s, total: 55.1 s\n",
      "Wall time: 56 s\n"
     ]
    },
    {
     "data": {
      "text/html": [
       "<div>\n",
       "<style scoped>\n",
       "    .dataframe tbody tr th:only-of-type {\n",
       "        vertical-align: middle;\n",
       "    }\n",
       "\n",
       "    .dataframe tbody tr th {\n",
       "        vertical-align: top;\n",
       "    }\n",
       "\n",
       "    .dataframe thead th {\n",
       "        text-align: right;\n",
       "    }\n",
       "</style>\n",
       "<table border=\"1\" class=\"dataframe\">\n",
       "  <thead>\n",
       "    <tr style=\"text-align: right;\">\n",
       "      <th></th>\n",
       "      <th>author</th>\n",
       "      <th>body</th>\n",
       "      <th>created_utc</th>\n",
       "      <th>id</th>\n",
       "      <th>subreddit</th>\n",
       "    </tr>\n",
       "  </thead>\n",
       "  <tbody>\n",
       "    <tr>\n",
       "      <th>0</th>\n",
       "      <td>Avinse</td>\n",
       "      <td>Username Checks Out</td>\n",
       "      <td>2019-05-07 21:11:36</td>\n",
       "      <td>emrv0h9</td>\n",
       "      <td>AskReddit</td>\n",
       "    </tr>\n",
       "    <tr>\n",
       "      <th>1</th>\n",
       "      <td>KeepingDankMemesDank</td>\n",
       "      <td>If this is a dank meme, **Upvote** this commen...</td>\n",
       "      <td>2019-05-07 21:11:37</td>\n",
       "      <td>emrv0jp</td>\n",
       "      <td>dankmemes</td>\n",
       "    </tr>\n",
       "    <tr>\n",
       "      <th>2</th>\n",
       "      <td>UhPhrasing</td>\n",
       "      <td>Just threaten them that you'll call the corpor...</td>\n",
       "      <td>2019-05-07 21:11:37</td>\n",
       "      <td>emrv0jq</td>\n",
       "      <td>golf</td>\n",
       "    </tr>\n",
       "    <tr>\n",
       "      <th>3</th>\n",
       "      <td>[deleted]</td>\n",
       "      <td>[removed]</td>\n",
       "      <td>2019-05-07 21:11:37</td>\n",
       "      <td>emrv0jr</td>\n",
       "      <td>Barca</td>\n",
       "    </tr>\n",
       "    <tr>\n",
       "      <th>4</th>\n",
       "      <td>EnergetikNA</td>\n",
       "      <td>honestly, do you really wanna go through an en...</td>\n",
       "      <td>2019-05-07 21:11:37</td>\n",
       "      <td>emrv0js</td>\n",
       "      <td>soccer</td>\n",
       "    </tr>\n",
       "    <tr>\n",
       "      <th>...</th>\n",
       "      <td>...</td>\n",
       "      <td>...</td>\n",
       "      <td>...</td>\n",
       "      <td>...</td>\n",
       "      <td>...</td>\n",
       "    </tr>\n",
       "    <tr>\n",
       "      <th>9599974</th>\n",
       "      <td>DogBeersHadOne</td>\n",
       "      <td>Guy who made the crossbuck had one job. One go...</td>\n",
       "      <td>2019-06-19 21:59:59</td>\n",
       "      <td>erl9mvx</td>\n",
       "      <td>trains</td>\n",
       "    </tr>\n",
       "    <tr>\n",
       "      <th>9599975</th>\n",
       "      <td>VenomousCoffee</td>\n",
       "      <td>Page number? Picture of the page?</td>\n",
       "      <td>2019-06-19 21:59:59</td>\n",
       "      <td>erl9mvw</td>\n",
       "      <td>marvelstudios</td>\n",
       "    </tr>\n",
       "    <tr>\n",
       "      <th>9599976</th>\n",
       "      <td>Homerundude698</td>\n",
       "      <td>So sexy baby</td>\n",
       "      <td>2019-06-19 21:59:59</td>\n",
       "      <td>erl9mvv</td>\n",
       "      <td>gonewild30plus</td>\n",
       "    </tr>\n",
       "    <tr>\n",
       "      <th>9599977</th>\n",
       "      <td>CircusRama</td>\n",
       "      <td>Removed for Rule 8</td>\n",
       "      <td>2019-06-19 21:59:59</td>\n",
       "      <td>erl9mwa</td>\n",
       "      <td>fivenightsatfreddys</td>\n",
       "    </tr>\n",
       "    <tr>\n",
       "      <th>9599978</th>\n",
       "      <td>BusShelter</td>\n",
       "      <td>This is barely even half an inch by the looks ...</td>\n",
       "      <td>2019-06-19 21:59:59</td>\n",
       "      <td>erl9muw</td>\n",
       "      <td>soccer</td>\n",
       "    </tr>\n",
       "  </tbody>\n",
       "</table>\n",
       "<p>9599979 rows × 5 columns</p>\n",
       "</div>"
      ],
      "text/plain": [
       "                       author  \\\n",
       "0                      Avinse   \n",
       "1        KeepingDankMemesDank   \n",
       "2                  UhPhrasing   \n",
       "3                   [deleted]   \n",
       "4                 EnergetikNA   \n",
       "...                       ...   \n",
       "9599974        DogBeersHadOne   \n",
       "9599975        VenomousCoffee   \n",
       "9599976        Homerundude698   \n",
       "9599977            CircusRama   \n",
       "9599978            BusShelter   \n",
       "\n",
       "                                                      body  \\\n",
       "0                                      Username Checks Out   \n",
       "1        If this is a dank meme, **Upvote** this commen...   \n",
       "2        Just threaten them that you'll call the corpor...   \n",
       "3                                                [removed]   \n",
       "4        honestly, do you really wanna go through an en...   \n",
       "...                                                    ...   \n",
       "9599974  Guy who made the crossbuck had one job. One go...   \n",
       "9599975                  Page number? Picture of the page?   \n",
       "9599976                                       So sexy baby   \n",
       "9599977                                 Removed for Rule 8   \n",
       "9599978  This is barely even half an inch by the looks ...   \n",
       "\n",
       "                created_utc       id            subreddit  \n",
       "0       2019-05-07 21:11:36  emrv0h9            AskReddit  \n",
       "1       2019-05-07 21:11:37  emrv0jp            dankmemes  \n",
       "2       2019-05-07 21:11:37  emrv0jq                 golf  \n",
       "3       2019-05-07 21:11:37  emrv0jr                Barca  \n",
       "4       2019-05-07 21:11:37  emrv0js               soccer  \n",
       "...                     ...      ...                  ...  \n",
       "9599974 2019-06-19 21:59:59  erl9mvx               trains  \n",
       "9599975 2019-06-19 21:59:59  erl9mvw        marvelstudios  \n",
       "9599976 2019-06-19 21:59:59  erl9mvv       gonewild30plus  \n",
       "9599977 2019-06-19 21:59:59  erl9mwa  fivenightsatfreddys  \n",
       "9599978 2019-06-19 21:59:59  erl9muw               soccer  \n",
       "\n",
       "[9599979 rows x 5 columns]"
      ]
     },
     "execution_count": null,
     "metadata": {},
     "output_type": "execute_result"
    }
   ],
   "source": [
    "%%time\n",
    "comments = read_comm_csvs(comments_paths)\n",
    "comments"
   ]
  },
  {
   "cell_type": "markdown",
   "metadata": {},
   "source": [
    "TODO: filter comments\n",
    "\n",
    "- [ ] remove duplicates\n",
    "- [ ] remove bots"
   ]
  },
  {
   "cell_type": "markdown",
   "id": "exclusive-rocket",
   "metadata": {},
   "source": [
    "#### get subreddit counts"
   ]
  },
  {
   "cell_type": "code",
   "execution_count": null,
   "id": "dried-shoot",
   "metadata": {},
   "outputs": [],
   "source": [
    "subr_counts = get_subr_counts(comments)"
   ]
  },
  {
   "cell_type": "code",
   "execution_count": null,
   "id": "substantial-spider",
   "metadata": {},
   "outputs": [
    {
     "data": {
      "text/html": [
       "\n",
       "<div id=\"altair-viz-28f42ba5ccb5467bbf5b008ccdfa8388\"></div>\n",
       "<script type=\"text/javascript\">\n",
       "  var VEGA_DEBUG = (typeof VEGA_DEBUG == \"undefined\") ? {} : VEGA_DEBUG;\n",
       "  (function(spec, embedOpt){\n",
       "    let outputDiv = document.currentScript.previousElementSibling;\n",
       "    if (outputDiv.id !== \"altair-viz-28f42ba5ccb5467bbf5b008ccdfa8388\") {\n",
       "      outputDiv = document.getElementById(\"altair-viz-28f42ba5ccb5467bbf5b008ccdfa8388\");\n",
       "    }\n",
       "    const paths = {\n",
       "      \"vega\": \"https://cdn.jsdelivr.net/npm//vega@5?noext\",\n",
       "      \"vega-lib\": \"https://cdn.jsdelivr.net/npm//vega-lib?noext\",\n",
       "      \"vega-lite\": \"https://cdn.jsdelivr.net/npm//vega-lite@4.17.0?noext\",\n",
       "      \"vega-embed\": \"https://cdn.jsdelivr.net/npm//vega-embed@6?noext\",\n",
       "    };\n",
       "\n",
       "    function maybeLoadScript(lib, version) {\n",
       "      var key = `${lib.replace(\"-\", \"\")}_version`;\n",
       "      return (VEGA_DEBUG[key] == version) ?\n",
       "        Promise.resolve(paths[lib]) :\n",
       "        new Promise(function(resolve, reject) {\n",
       "          var s = document.createElement('script');\n",
       "          document.getElementsByTagName(\"head\")[0].appendChild(s);\n",
       "          s.async = true;\n",
       "          s.onload = () => {\n",
       "            VEGA_DEBUG[key] = version;\n",
       "            return resolve(paths[lib]);\n",
       "          };\n",
       "          s.onerror = () => reject(`Error loading script: ${paths[lib]}`);\n",
       "          s.src = paths[lib];\n",
       "        });\n",
       "    }\n",
       "\n",
       "    function showError(err) {\n",
       "      outputDiv.innerHTML = `<div class=\"error\" style=\"color:red;\">${err}</div>`;\n",
       "      throw err;\n",
       "    }\n",
       "\n",
       "    function displayChart(vegaEmbed) {\n",
       "      vegaEmbed(outputDiv, spec, embedOpt)\n",
       "        .catch(err => showError(`Javascript Error: ${err.message}<br>This usually means there's a typo in your chart specification. See the javascript console for the full traceback.`));\n",
       "    }\n",
       "\n",
       "    if(typeof define === \"function\" && define.amd) {\n",
       "      requirejs.config({paths});\n",
       "      require([\"vega-embed\"], displayChart, err => showError(`Error loading script: ${err.message}`));\n",
       "    } else {\n",
       "      maybeLoadScript(\"vega\", \"5\")\n",
       "        .then(() => maybeLoadScript(\"vega-lite\", \"4.17.0\"))\n",
       "        .then(() => maybeLoadScript(\"vega-embed\", \"6\"))\n",
       "        .catch(showError)\n",
       "        .then(() => displayChart(vegaEmbed));\n",
       "    }\n",
       "  })({\"config\": {\"view\": {\"continuousWidth\": 400, \"continuousHeight\": 300}}, \"data\": {\"name\": \"data-151658c588b77c0f8397fe41b7b06449\"}, \"mark\": \"bar\", \"encoding\": {\"x\": {\"field\": \"comments_num\", \"type\": \"quantitative\"}, \"y\": {\"field\": \"subreddit\", \"sort\": \"-x\", \"type\": \"nominal\"}}, \"$schema\": \"https://vega.github.io/schema/vega-lite/v4.17.0.json\", \"datasets\": {\"data-151658c588b77c0f8397fe41b7b06449\": [{\"subreddit\": \"AskReddit\", \"comments_num\": 429516}, {\"subreddit\": \"politics\", \"comments_num\": 146023}, {\"subreddit\": \"memes\", \"comments_num\": 99027}, {\"subreddit\": \"teenagers\", \"comments_num\": 89685}, {\"subreddit\": \"dankmemes\", \"comments_num\": 84107}, {\"subreddit\": \"PatriotsvsTexansLivz\", \"comments_num\": 80476}, {\"subreddit\": \"soccer\", \"comments_num\": 73348}, {\"subreddit\": \"nba\", \"comments_num\": 69130}, {\"subreddit\": \"AmItheAsshole\", \"comments_num\": 65271}, {\"subreddit\": \"funny\", \"comments_num\": 64256}, {\"subreddit\": \"NFLWeek14Lives\", \"comments_num\": 60055}, {\"subreddit\": \"nfl\", \"comments_num\": 58602}, {\"subreddit\": \"unpopularopinion\", \"comments_num\": 55227}, {\"subreddit\": \"worldnews\", \"comments_num\": 54755}, {\"subreddit\": \"ufc245fightonline\", \"comments_num\": 48229}, {\"subreddit\": \"The_Donald\", \"comments_num\": 46733}, {\"subreddit\": \"gaming\", \"comments_num\": 45341}, {\"subreddit\": \"UFC245StreamToday\", \"comments_num\": 45162}, {\"subreddit\": \"CFB\", \"comments_num\": 44439}, {\"subreddit\": \"news\", \"comments_num\": 43733}]}}, {\"mode\": \"vega-lite\"});\n",
       "</script>"
      ],
      "text/plain": [
       "alt.Chart(...)"
      ]
     },
     "execution_count": null,
     "metadata": {},
     "output_type": "execute_result"
    }
   ],
   "source": [
    "subr_counts_plt = plot_subr_counts(subr_counts, k=20)\n",
    "subr_counts_plt"
   ]
  },
  {
   "cell_type": "code",
   "execution_count": null,
   "id": "conventional-funeral",
   "metadata": {},
   "outputs": [],
   "source": [
    "subr_counts_plt.save(f'{OUT_DIR}subr_counts.png', scale_factor=2.0)"
   ]
  },
  {
   "cell_type": "code",
   "execution_count": null,
   "id": "yellow-exhaust",
   "metadata": {},
   "outputs": [
    {
     "data": {
      "text/html": [
       "<div>\n",
       "<style scoped>\n",
       "    .dataframe tbody tr th:only-of-type {\n",
       "        vertical-align: middle;\n",
       "    }\n",
       "\n",
       "    .dataframe tbody tr th {\n",
       "        vertical-align: top;\n",
       "    }\n",
       "\n",
       "    .dataframe thead th {\n",
       "        text-align: right;\n",
       "    }\n",
       "</style>\n",
       "<table border=\"1\" class=\"dataframe\">\n",
       "  <thead>\n",
       "    <tr style=\"text-align: right;\">\n",
       "      <th></th>\n",
       "      <th>author</th>\n",
       "      <th>body</th>\n",
       "      <th>created_utc</th>\n",
       "      <th>id</th>\n",
       "      <th>subreddit</th>\n",
       "    </tr>\n",
       "  </thead>\n",
       "  <tbody>\n",
       "    <tr>\n",
       "      <th>2720703</th>\n",
       "      <td>Blueowl789</td>\n",
       "      <td>oh yeah? quote it</td>\n",
       "      <td>2019-12-07 22:45:53</td>\n",
       "      <td>fa0ql3q</td>\n",
       "      <td>AskReddit</td>\n",
       "    </tr>\n",
       "    <tr>\n",
       "      <th>6612440</th>\n",
       "      <td>ghostoflops</td>\n",
       "      <td>Lurking for jerking off, participating for con...</td>\n",
       "      <td>2019-09-01 21:07:19</td>\n",
       "      <td>eyrlxlg</td>\n",
       "      <td>AskReddit</td>\n",
       "    </tr>\n",
       "    <tr>\n",
       "      <th>8541016</th>\n",
       "      <td>WhenAllElseFail</td>\n",
       "      <td>so i put my hands up, they're playing my song,...</td>\n",
       "      <td>2019-08-14 21:46:21</td>\n",
       "      <td>eww2p0q</td>\n",
       "      <td>AskReddit</td>\n",
       "    </tr>\n",
       "    <tr>\n",
       "      <th>6482914</th>\n",
       "      <td>Tyr_ranical</td>\n",
       "      <td>Wait is this reply about stuff here, or a thin...</td>\n",
       "      <td>2019-03-19 22:29:49</td>\n",
       "      <td>eiwy4fz</td>\n",
       "      <td>AskReddit</td>\n",
       "    </tr>\n",
       "    <tr>\n",
       "      <th>599903</th>\n",
       "      <td>JazzUnlikeTheCaroot</td>\n",
       "      <td>You as a director 😀</td>\n",
       "      <td>2019-07-14 21:59:58</td>\n",
       "      <td>etsbx0o</td>\n",
       "      <td>AskReddit</td>\n",
       "    </tr>\n",
       "    <tr>\n",
       "      <th>6102560</th>\n",
       "      <td>_luckybandit_</td>\n",
       "      <td>DashieXP or Dashie games\n",
       "\n",
       "He stopped uploading...</td>\n",
       "      <td>2019-05-01 21:34:58</td>\n",
       "      <td>em9fj76</td>\n",
       "      <td>AskReddit</td>\n",
       "    </tr>\n",
       "    <tr>\n",
       "      <th>7595345</th>\n",
       "      <td>neovangelis</td>\n",
       "      <td>Periscope for \"wizards\"</td>\n",
       "      <td>2019-08-19 21:58:51</td>\n",
       "      <td>exfzg04</td>\n",
       "      <td>AskReddit</td>\n",
       "    </tr>\n",
       "    <tr>\n",
       "      <th>2155937</th>\n",
       "      <td>Byrinthion</td>\n",
       "      <td>I’m not a developer haha, I’m a writer. So I d...</td>\n",
       "      <td>2019-03-14 22:47:57</td>\n",
       "      <td>eijpp3m</td>\n",
       "      <td>AskReddit</td>\n",
       "    </tr>\n",
       "    <tr>\n",
       "      <th>2698189</th>\n",
       "      <td>AutoModerator</td>\n",
       "      <td>**PLEASE READ THIS MESSAGE IN ITS ENTIRETY BEF...</td>\n",
       "      <td>2019-12-07 22:41:05</td>\n",
       "      <td>fa0q2w2</td>\n",
       "      <td>AskReddit</td>\n",
       "    </tr>\n",
       "    <tr>\n",
       "      <th>7483454</th>\n",
       "      <td>neovangelis</td>\n",
       "      <td>The Native Americans who came before them woul...</td>\n",
       "      <td>2019-08-19 21:30:52</td>\n",
       "      <td>exfwxci</td>\n",
       "      <td>AskReddit</td>\n",
       "    </tr>\n",
       "  </tbody>\n",
       "</table>\n",
       "</div>"
      ],
      "text/plain": [
       "                      author  \\\n",
       "2720703           Blueowl789   \n",
       "6612440          ghostoflops   \n",
       "8541016      WhenAllElseFail   \n",
       "6482914          Tyr_ranical   \n",
       "599903   JazzUnlikeTheCaroot   \n",
       "6102560        _luckybandit_   \n",
       "7595345          neovangelis   \n",
       "2155937           Byrinthion   \n",
       "2698189        AutoModerator   \n",
       "7483454          neovangelis   \n",
       "\n",
       "                                                      body  \\\n",
       "2720703                                  oh yeah? quote it   \n",
       "6612440  Lurking for jerking off, participating for con...   \n",
       "8541016  so i put my hands up, they're playing my song,...   \n",
       "6482914  Wait is this reply about stuff here, or a thin...   \n",
       "599903                                 You as a director 😀   \n",
       "6102560  DashieXP or Dashie games\n",
       "\n",
       "He stopped uploading...   \n",
       "7595345                            Periscope for \"wizards\"   \n",
       "2155937  I’m not a developer haha, I’m a writer. So I d...   \n",
       "2698189  **PLEASE READ THIS MESSAGE IN ITS ENTIRETY BEF...   \n",
       "7483454  The Native Americans who came before them woul...   \n",
       "\n",
       "                created_utc       id  subreddit  \n",
       "2720703 2019-12-07 22:45:53  fa0ql3q  AskReddit  \n",
       "6612440 2019-09-01 21:07:19  eyrlxlg  AskReddit  \n",
       "8541016 2019-08-14 21:46:21  eww2p0q  AskReddit  \n",
       "6482914 2019-03-19 22:29:49  eiwy4fz  AskReddit  \n",
       "599903  2019-07-14 21:59:58  etsbx0o  AskReddit  \n",
       "6102560 2019-05-01 21:34:58  em9fj76  AskReddit  \n",
       "7595345 2019-08-19 21:58:51  exfzg04  AskReddit  \n",
       "2155937 2019-03-14 22:47:57  eijpp3m  AskReddit  \n",
       "2698189 2019-12-07 22:41:05  fa0q2w2  AskReddit  \n",
       "7483454 2019-08-19 21:30:52  exfwxci  AskReddit  "
      ]
     },
     "execution_count": null,
     "metadata": {},
     "output_type": "execute_result"
    }
   ],
   "source": [
    "comments\\\n",
    "    .query('subreddit == \"AskReddit\"')\\\n",
    "     .sample(10)"
   ]
  }
 ],
 "metadata": {
  "kernelspec": {
   "display_name": "Python 3 (ipykernel)",
   "language": "python",
   "name": "python3"
  }
 },
 "nbformat": 4,
 "nbformat_minor": 4
}
