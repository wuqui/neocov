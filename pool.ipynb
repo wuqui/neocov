{
 "cells": [
  {
   "cell_type": "code",
   "execution_count": null,
   "metadata": {},
   "outputs": [],
   "source": [
    "# all_data"
   ]
  },
  {
   "cell_type": "markdown",
   "metadata": {},
   "source": [
    "# Phrase detection for multigrams"
   ]
  },
  {
   "cell_type": "code",
   "execution_count": null,
   "metadata": {},
   "outputs": [],
   "source": [
    "import gensim"
   ]
  },
  {
   "cell_type": "code",
   "execution_count": null,
   "metadata": {},
   "outputs": [
    {
     "name": "stdout",
     "output_type": "stream",
     "text": [
      "CPU times: user 3min 10s, sys: 1min 25s, total: 4min 35s\n",
      "Wall time: 10min 34s\n"
     ]
    }
   ],
   "source": [
    "%%time\n",
    "phrases = gensim.models.phrases.Phrases(docs)\n"
   ]
  },
  {
   "cell_type": "code",
   "execution_count": null,
   "metadata": {},
   "outputs": [],
   "source": [
    "phrases_found = phrases.find_phrases(docs)"
   ]
  },
  {
   "cell_type": "code",
   "execution_count": null,
   "metadata": {},
   "outputs": [
    {
     "data": {
      "text/html": [
       "<div>\n",
       "<style scoped>\n",
       "    .dataframe tbody tr th:only-of-type {\n",
       "        vertical-align: middle;\n",
       "    }\n",
       "\n",
       "    .dataframe tbody tr th {\n",
       "        vertical-align: top;\n",
       "    }\n",
       "\n",
       "    .dataframe thead th {\n",
       "        text-align: right;\n",
       "    }\n",
       "</style>\n",
       "<table border=\"1\" class=\"dataframe\">\n",
       "  <thead>\n",
       "    <tr style=\"text-align: right;\">\n",
       "      <th></th>\n",
       "      <th>phrase</th>\n",
       "      <th>value</th>\n",
       "    </tr>\n",
       "  </thead>\n",
       "  <tbody>\n",
       "    <tr>\n",
       "      <th>64421</th>\n",
       "      <td>forced_quarantines</td>\n",
       "      <td>11.450520</td>\n",
       "    </tr>\n",
       "    <tr>\n",
       "      <th>55698</th>\n",
       "      <td>wider_variety</td>\n",
       "      <td>40.688694</td>\n",
       "    </tr>\n",
       "    <tr>\n",
       "      <th>56783</th>\n",
       "      <td>chemical_contaminants</td>\n",
       "      <td>58.917539</td>\n",
       "    </tr>\n",
       "    <tr>\n",
       "      <th>25339</th>\n",
       "      <td>swearing_allegiance</td>\n",
       "      <td>92.558008</td>\n",
       "    </tr>\n",
       "    <tr>\n",
       "      <th>42591</th>\n",
       "      <td>lil_pump</td>\n",
       "      <td>191.926698</td>\n",
       "    </tr>\n",
       "    <tr>\n",
       "      <th>...</th>\n",
       "      <td>...</td>\n",
       "      <td>...</td>\n",
       "    </tr>\n",
       "    <tr>\n",
       "      <th>65735</th>\n",
       "      <td>nicotine_patch</td>\n",
       "      <td>53.951723</td>\n",
       "    </tr>\n",
       "    <tr>\n",
       "      <th>37677</th>\n",
       "      <td>worked_wonders</td>\n",
       "      <td>27.342773</td>\n",
       "    </tr>\n",
       "    <tr>\n",
       "      <th>81702</th>\n",
       "      <td>thecollectiveq_status</td>\n",
       "      <td>149.891811</td>\n",
       "    </tr>\n",
       "    <tr>\n",
       "      <th>22963</th>\n",
       "      <td>mutual_defense</td>\n",
       "      <td>10.526437</td>\n",
       "    </tr>\n",
       "    <tr>\n",
       "      <th>53056</th>\n",
       "      <td>rapidly_expanding</td>\n",
       "      <td>53.870965</td>\n",
       "    </tr>\n",
       "  </tbody>\n",
       "</table>\n",
       "<p>100 rows × 2 columns</p>\n",
       "</div>"
      ],
      "text/plain": [
       "                      phrase       value\n",
       "64421     forced_quarantines   11.450520\n",
       "55698          wider_variety   40.688694\n",
       "56783  chemical_contaminants   58.917539\n",
       "25339    swearing_allegiance   92.558008\n",
       "42591               lil_pump  191.926698\n",
       "...                      ...         ...\n",
       "65735         nicotine_patch   53.951723\n",
       "37677         worked_wonders   27.342773\n",
       "81702  thecollectiveq_status  149.891811\n",
       "22963         mutual_defense   10.526437\n",
       "53056      rapidly_expanding   53.870965\n",
       "\n",
       "[100 rows x 2 columns]"
      ]
     },
     "metadata": {},
     "output_type": "display_data"
    }
   ],
   "source": [
    "pd.DataFrame(\n",
    "\tcolumns=['phrase', 'value'],\n",
    "\tdata=phrases_found.items()\n",
    "\t)\\\n",
    "\t\t.sample(100)\n",
    "\t\t# .nlargest(20, 'value')"
   ]
  },
  {
   "cell_type": "code",
   "execution_count": null,
   "metadata": {},
   "outputs": [],
   "source": [
    "phrases.save(f'{OUT_DIR}phrases_soc_conspiracy')"
   ]
  },
  {
   "cell_type": "code",
   "execution_count": null,
   "metadata": {},
   "outputs": [],
   "source": [
    "docs_phrased = docs"
   ]
  },
  {
   "cell_type": "code",
   "execution_count": null,
   "metadata": {},
   "outputs": [],
   "source": [
    "for doc in phrases[docs_phrased]:\n",
    "\tpass"
   ]
  },
  {
   "cell_type": "code",
   "execution_count": null,
   "metadata": {},
   "outputs": [
    {
     "name": "stdout",
     "output_type": "stream",
     "text": [
      "911_put_into_historical_context\n",
      "wiki_2_\n",
      "_address_the_argument\n",
      "3b_not_the_user\n",
      "2c_the_mods\n",
      "2c_or_the_sub\n",
      "wiki_2_\n",
      "_address_the_argument\n",
      "3b_not_the_user\n",
      "2c_the_mods\n",
      "2c_or_the_sub\n",
      "wiki_2_\n",
      "_address_the_argument\n",
      "3b_not_the_user\n",
      "2c_the_mods\n",
      "2c_or_the_sub\n",
      "wiki_2_\n",
      "_address_the_argument\n",
      "3b_not_the_user\n",
      "2c_the_mods\n",
      "2c_or_the_sub\n",
      "wiki_2_\n",
      "_address_the_argument\n",
      "3b_not_the_user\n",
      "2c_the_mods\n",
      "2c_or_the_sub\n",
      "wiki_2_\n",
      "_address_the_argument\n",
      "3b_not_the_user\n",
      "2c_the_mods\n",
      "2c_or_the_sub\n",
      "submission_statements_now_required_for_all_link\n",
      "wiki_2_\n",
      "_address_the_argument\n",
      "3b_not_the_user\n",
      "2c_the_mods\n",
      "2c_or_the_sub\n",
      "wiki_2_\n",
      "_address_the_argument\n",
      "3b_not_the_user\n",
      "2c_the_mods\n",
      "2c_or_the_sub\n"
     ]
    }
   ],
   "source": [
    "import random\n",
    "\n",
    "sents = random.choices(docs_phrased_list, k=100)\n",
    "\n",
    "for sent in sents:\n",
    "\tfor tok in sent:\n",
    "\t\tif '_' in tok:\n",
    "\t\t\tprint(tok)"
   ]
  },
  {
   "cell_type": "code",
   "execution_count": null,
   "metadata": {},
   "outputs": [],
   "source": [
    "tok_freqs = {}\n",
    "for doc in docs_phrased_list:\n",
    "\tfor tok in doc:\n",
    "\t\tif '_' in tok:\n",
    "\t\t\ttok_freqs[tok] = tok_freqs.get(tok, 0) + 1"
   ]
  },
  {
   "cell_type": "code",
   "execution_count": null,
   "metadata": {},
   "outputs": [],
   "source": [
    "tok_freqs_df = pd.DataFrame(\n",
    "\tdata=tok_freqs.items(),\n",
    "\tcolumns=['token', 'freq']\n",
    ")"
   ]
  },
  {
   "cell_type": "code",
   "execution_count": null,
   "metadata": {},
   "outputs": [
    {
     "data": {
      "text/html": [
       "<div>\n",
       "<style scoped>\n",
       "    .dataframe tbody tr th:only-of-type {\n",
       "        vertical-align: middle;\n",
       "    }\n",
       "\n",
       "    .dataframe tbody tr th {\n",
       "        vertical-align: top;\n",
       "    }\n",
       "\n",
       "    .dataframe thead th {\n",
       "        text-align: right;\n",
       "    }\n",
       "</style>\n",
       "<table border=\"1\" class=\"dataframe\">\n",
       "  <thead>\n",
       "    <tr style=\"text-align: right;\">\n",
       "      <th></th>\n",
       "      <th>token</th>\n",
       "      <th>freq</th>\n",
       "    </tr>\n",
       "  </thead>\n",
       "  <tbody>\n",
       "    <tr>\n",
       "      <th>2</th>\n",
       "      <td>_address_the_argument</td>\n",
       "      <td>282346</td>\n",
       "    </tr>\n",
       "    <tr>\n",
       "      <th>3</th>\n",
       "      <td>3b_not_the_user</td>\n",
       "      <td>282346</td>\n",
       "    </tr>\n",
       "    <tr>\n",
       "      <th>4</th>\n",
       "      <td>2c_the_mods</td>\n",
       "      <td>282346</td>\n",
       "    </tr>\n",
       "    <tr>\n",
       "      <th>5</th>\n",
       "      <td>2c_or_the_sub</td>\n",
       "      <td>282346</td>\n",
       "    </tr>\n",
       "    <tr>\n",
       "      <th>1</th>\n",
       "      <td>wiki_2_</td>\n",
       "      <td>282346</td>\n",
       "    </tr>\n",
       "    <tr>\n",
       "      <th>...</th>\n",
       "      <td>...</td>\n",
       "      <td>...</td>\n",
       "    </tr>\n",
       "    <tr>\n",
       "      <th>509</th>\n",
       "      <td>_states</td>\n",
       "      <td>109</td>\n",
       "    </tr>\n",
       "    <tr>\n",
       "      <th>6211</th>\n",
       "      <td>steele_dossier</td>\n",
       "      <td>108</td>\n",
       "    </tr>\n",
       "    <tr>\n",
       "      <th>1467</th>\n",
       "      <td>_story</td>\n",
       "      <td>106</td>\n",
       "    </tr>\n",
       "    <tr>\n",
       "      <th>1525</th>\n",
       "      <td>_was</td>\n",
       "      <td>105</td>\n",
       "    </tr>\n",
       "    <tr>\n",
       "      <th>999</th>\n",
       "      <td>white_privilege_is</td>\n",
       "      <td>103</td>\n",
       "    </tr>\n",
       "  </tbody>\n",
       "</table>\n",
       "<p>100 rows × 2 columns</p>\n",
       "</div>"
      ],
      "text/plain": [
       "                      token    freq\n",
       "2     _address_the_argument  282346\n",
       "3           3b_not_the_user  282346\n",
       "4               2c_the_mods  282346\n",
       "5             2c_or_the_sub  282346\n",
       "1                   wiki_2_  282346\n",
       "...                     ...     ...\n",
       "509                 _states     109\n",
       "6211         steele_dossier     108\n",
       "1467                 _story     106\n",
       "1525                   _was     105\n",
       "999      white_privilege_is     103\n",
       "\n",
       "[100 rows x 2 columns]"
      ]
     },
     "metadata": {},
     "output_type": "display_data"
    }
   ],
   "source": [
    "tok_freqs_df.sort_values('freq', ascending=False).head(100)"
   ]
  }
 ],
 "metadata": {
  "kernelspec": {
   "display_name": "Python 3.10.1 64-bit ('neocov': conda)",
   "language": "python",
   "name": "python3"
  }
 },
 "nbformat": 4,
 "nbformat_minor": 2
}
