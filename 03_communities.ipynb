{
 "cells": [
  {
   "cell_type": "code",
   "execution_count": null,
   "metadata": {},
   "outputs": [],
   "source": [
    "%load_ext autoreload\n",
    "%autoreload 2"
   ]
  },
  {
   "cell_type": "code",
   "execution_count": null,
   "metadata": {},
   "outputs": [],
   "source": [
    "# default_exp communities"
   ]
  },
  {
   "cell_type": "code",
   "execution_count": null,
   "metadata": {},
   "outputs": [],
   "source": [
    "# export\n",
    "import altair as alt"
   ]
  },
  {
   "cell_type": "markdown",
   "metadata": {},
   "source": [
    "# Communities"
   ]
  },
  {
   "cell_type": "code",
   "execution_count": null,
   "id": "thousand-mercury",
   "metadata": {},
   "outputs": [],
   "source": [
    "# export\n",
    "def get_subr_counts(comments):\n",
    "    subr_counts = comments\\\n",
    "        .groupby('subreddit')\\\n",
    "        .agg(comments_num = ('subreddit', 'count'))\\\n",
    "        .sort_values('comments_num', ascending=False)\n",
    "    return subr_counts"
   ]
  },
  {
   "cell_type": "code",
   "execution_count": null,
   "id": "drawn-evidence",
   "metadata": {},
   "outputs": [],
   "source": [
    "# export\n",
    "def plot_subr_counts(subr_counts, k=20):\n",
    "    chart = subr_counts\\\n",
    "        .reset_index()\\\n",
    "        .iloc[:k]\\\n",
    "        .pipe(alt.Chart)\\\n",
    "            .mark_bar()\\\n",
    "            .encode(\n",
    "                x=alt.X('comments_num:Q'),\n",
    "                y=alt.Y('subreddit:N', sort='-x')\n",
    "            )\n",
    "    return chart"
   ]
  }
 ],
 "metadata": {
  "kernelspec": {
   "display_name": "Python 3.10.1 64-bit ('neocov': conda)",
   "language": "python",
   "name": "python3"
  }
 },
 "nbformat": 4,
 "nbformat_minor": 2
}
