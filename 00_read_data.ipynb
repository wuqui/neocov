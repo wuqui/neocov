{
 "cells": [
  {
   "cell_type": "code",
   "execution_count": null,
   "metadata": {},
   "outputs": [],
   "source": [
    "%load_ext autoreload\n",
    "%autoreload 2"
   ]
  },
  {
   "cell_type": "code",
   "execution_count": null,
   "metadata": {},
   "outputs": [],
   "source": [
    "# default_exp read_data\n",
    "# all_data"
   ]
  },
  {
   "cell_type": "code",
   "execution_count": null,
   "metadata": {},
   "outputs": [],
   "source": [
    "# export\n",
    "from pathlib import Path\n",
    "import pandas as pd"
   ]
  },
  {
   "cell_type": "markdown",
   "metadata": {},
   "source": [
    "# Read data"
   ]
  },
  {
   "cell_type": "markdown",
   "metadata": {},
   "source": [
    "## Get file paths"
   ]
  },
  {
   "cell_type": "markdown",
   "metadata": {},
   "source": [
    "### by year"
   ]
  },
  {
   "cell_type": "code",
   "execution_count": null,
   "metadata": {},
   "outputs": [],
   "source": [
    "COMMENTS_DIR = '../data/comments/by_date/'"
   ]
  },
  {
   "cell_type": "code",
   "execution_count": null,
   "metadata": {},
   "outputs": [],
   "source": [
    "YEAR = 2019"
   ]
  },
  {
   "cell_type": "code",
   "execution_count": null,
   "metadata": {},
   "outputs": [],
   "source": [
    "# export\n",
    "def get_comments_paths_year(COMMENTS_DIR, YEAR):\n",
    "    comments_dir_path = Path(COMMENTS_DIR)\n",
    "    comments_paths = list(comments_dir_path.glob(f'{YEAR}*.csv'))\n",
    "    return comments_paths    "
   ]
  },
  {
   "cell_type": "code",
   "execution_count": null,
   "metadata": {},
   "outputs": [
    {
     "data": {
      "text/plain": [
       "[Path('../data/comments/by_date/2019-05-07_21:11:36___2019-05-07_21:59:59.csv'),\n",
       " Path('../data/comments/by_date/2019-08-07_21:12:15___2019-08-07_21:59:59.csv'),\n",
       " Path('../data/comments/by_date/2019-07-14_21:06:51___2019-07-14_21:59:59.csv'),\n",
       " Path('../data/comments/by_date/2019-07-01_21:59:59___2019-07-01_21:19:55.csv'),\n",
       " Path('../data/comments/by_date/2019-05-14_21:15:37___2019-05-14_21:59:59.csv'),\n",
       " Path('../data/comments/by_date/2019-06-07_21:17:11___2019-06-07_21:59:59.csv'),\n",
       " Path('../data/comments/by_date/2019-02-01_22:59:59___2019-02-01_22:02:38.csv'),\n",
       " Path('../data/comments/by_date/2019-02-07_22:06:26___2019-02-07_22:59:59.csv'),\n",
       " Path('../data/comments/by_date/2019-06-01_21:59:59___2019-06-01_21:09:37.csv'),\n",
       " Path('../data/comments/by_date/2019-11-07_22:24:23___2019-11-07_22:59:59.csv'),\n",
       " Path('../data/comments/by_date/2019-03-14_22:06:05___2019-03-14_22:59:59.csv'),\n",
       " Path('../data/comments/by_date/2019-10-07_21:17:33___2019-10-07_21:59:59.csv'),\n",
       " Path('../data/comments/by_date/2019-02-14_22:04:57___2019-02-14_22:59:59.csv'),\n",
       " Path('../data/comments/by_date/2019-12-07_22:29:19___2019-12-07_22:59:59.csv'),\n",
       " Path('../data/comments/by_date/2019-08-01_21:59:59___2019-08-01_21:13:12.csv'),\n",
       " Path('../data/comments/by_date/2019-03-01_22:59:59___2019-03-01_22:04:58.csv'),\n",
       " Path('../data/comments/by_date/2019-04-19_21:03:20___2019-04-19_21:59:59.csv'),\n",
       " Path('../data/comments/by_date/2019-06-14_21:02:30___2019-06-14_21:59:59.csv'),\n",
       " Path('../data/comments/by_date/2019-01-19_22:12:29___2019-01-19_22:59:59.csv'),\n",
       " Path('../data/comments/by_date/2019-11-14_22:11:50___2019-11-14_22:59:59.csv'),\n",
       " Path('../data/comments/by_date/2019-01-01_22:59:59___2019-01-01_21:59:07.csv'),\n",
       " Path('../data/comments/by_date/2019-12-19_22:09:07___2019-12-19_22:59:59.csv'),\n",
       " Path('../data/comments/by_date/2019-12-01_22:59:59___2019-12-01_22:36:30.csv'),\n",
       " Path('../data/comments/by_date/2019-04-01_21:59:59___2019-04-01_21:05:49.csv'),\n",
       " Path('../data/comments/by_date/2019-11-01_22:59:59___2019-11-01_22:06:28.csv'),\n",
       " Path('../data/comments/by_date/2019-10-01_21:59:59___2019-10-01_21:14:05.csv'),\n",
       " Path('../data/comments/by_date/2019-09-19_21:12:20___2019-09-19_21:59:59.csv'),\n",
       " Path('../data/comments/by_date/2019-01-07_22:14:11___2019-01-07_22:59:59.csv'),\n",
       " Path('../data/comments/by_date/2019-04-14_21:01:38___2019-04-14_21:59:59.csv'),\n",
       " Path('../data/comments/by_date/2019-07-19_21:10:09___2019-07-19_21:59:59.csv'),\n",
       " Path('../data/comments/by_date/2019-05-01_21:59:59___2019-05-01_21:10:03.csv'),\n",
       " Path('../data/comments/by_date/2019-09-14_21:17:45___2019-09-14_21:59:59.csv'),\n",
       " Path('../data/comments/by_date/2019-03-19_22:08:57___2019-03-19_22:59:59.csv'),\n",
       " Path('../data/comments/by_date/2019-09-01_21:59:59___2019-09-01_21:03:54.csv'),\n",
       " Path('../data/comments/by_date/2019-01-14_22:04:48___2019-01-14_22:59:59.csv'),\n",
       " Path('../data/comments/by_date/2019-09-07_21:09:47___2019-09-07_21:59:59.csv'),\n",
       " Path('../data/comments/by_date/2019-10-14_21:33:09___2019-10-14_21:59:59.csv'),\n",
       " Path('../data/comments/by_date/2019-08-19_21:10:07___2019-08-19_21:59:59.csv'),\n",
       " Path('../data/comments/by_date/2019-10-19_21:04:06___2019-10-19_21:59:59.csv'),\n",
       " Path('../data/comments/by_date/2019-12-14_22:34:00___2019-12-14_22:59:59.csv'),\n",
       " Path('../data/comments/by_date/2019-03-07_22:06:55___2019-03-07_22:59:59.csv'),\n",
       " Path('../data/comments/by_date/2019-02-19_22:06:50___2019-02-19_22:59:59.csv'),\n",
       " Path('../data/comments/by_date/2019-08-14_21:13:49___2019-08-14_21:59:59.csv'),\n",
       " Path('../data/comments/by_date/2019-05-19_21:16:29___2019-05-19_21:59:59.csv'),\n",
       " Path('../data/comments/by_date/2019-07-07_21:07:10___2019-07-07_21:59:59.csv'),\n",
       " Path('../data/comments/by_date/2019-04-07_21:10:44___2019-04-07_21:59:59.csv'),\n",
       " Path('../data/comments/by_date/2019-11-19_22:15:40___2019-11-19_22:59:59.csv'),\n",
       " Path('../data/comments/by_date/2019-06-19_21:09:12___2019-06-19_21:59:59.csv')]"
      ]
     },
     "execution_count": null,
     "metadata": {},
     "output_type": "execute_result"
    }
   ],
   "source": [
    "get_comments_paths_year(COMMENTS_DIR, '2019')"
   ]
  },
  {
   "cell_type": "code",
   "execution_count": null,
   "metadata": {},
   "outputs": [],
   "source": [
    "assert len(get_comments_paths_year(COMMENTS_DIR, '2019')) == 48"
   ]
  },
  {
   "cell_type": "code",
   "execution_count": null,
   "metadata": {},
   "outputs": [],
   "source": [
    "assert len(get_comments_paths_year(COMMENTS_DIR, '2020')) == 48"
   ]
  },
  {
   "cell_type": "code",
   "execution_count": null,
   "metadata": {},
   "outputs": [],
   "source": [
    "comment_paths_year = get_comments_paths_year(COMMENTS_DIR, YEAR)"
   ]
  },
  {
   "cell_type": "markdown",
   "metadata": {},
   "source": [
    "### by subreddit"
   ]
  },
  {
   "cell_type": "code",
   "execution_count": null,
   "metadata": {},
   "outputs": [],
   "source": [
    "COMMENTS_DIR_SUBR = '../data/comments/subr/'"
   ]
  },
  {
   "cell_type": "code",
   "execution_count": null,
   "metadata": {},
   "outputs": [],
   "source": [
    "SUBR = 'conspiracy'"
   ]
  },
  {
   "cell_type": "code",
   "execution_count": null,
   "metadata": {},
   "outputs": [],
   "source": [
    "# export\n",
    "def get_comments_paths_subr(COMMENTS_DIR_SUBR, SUBR):\n",
    "\tcomments_subr_dir_path = Path(COMMENTS_DIR_SUBR)\n",
    "\tcomments_subr_paths = list(comments_subr_dir_path.glob(f'{SUBR}*.csv'))\n",
    "\treturn comments_subr_paths"
   ]
  },
  {
   "cell_type": "code",
   "execution_count": null,
   "metadata": {},
   "outputs": [],
   "source": [
    "comments_paths_subr = get_comments_paths_subr(COMMENTS_DIR_SUBR, SUBR)"
   ]
  },
  {
   "cell_type": "markdown",
   "metadata": {},
   "source": [
    "## Read comments"
   ]
  },
  {
   "cell_type": "markdown",
   "metadata": {},
   "source": [
    "### Read `1` comments `csv` file"
   ]
  },
  {
   "cell_type": "code",
   "execution_count": null,
   "metadata": {},
   "outputs": [],
   "source": [
    "fpath = comment_paths_year[0]"
   ]
  },
  {
   "cell_type": "code",
   "execution_count": null,
   "metadata": {},
   "outputs": [],
   "source": [
    "# export\n",
    "def read_comm_csv(fpath):\n",
    "    try:\n",
    "        # removed because new method for writing retrieved data out already does date conversion beforehand\n",
    "        # date_parser = lambda x: pd.to_datetime(x, unit='s', errors='coerce')\n",
    "        comments = pd.read_csv(\n",
    "            fpath,\n",
    "            usecols=['id', 'created_utc', 'author', 'subreddit', 'body'],\n",
    "            dtype={\n",
    "                'id': 'string',\n",
    "                # 'created_utc': int, s. above\n",
    "                'author': 'string',\n",
    "                'subreddit': 'string',\n",
    "                'body': 'string'\n",
    "            },\n",
    "            parse_dates=['created_utc'],\n",
    "            # date_parser=date_parser,\n",
    "            low_memory=False,\n",
    "            lineterminator='\\n'\n",
    "        )\n",
    "        comments_clean = comments\\\n",
    "            .dropna()\\\n",
    "            .drop_duplicates(subset='id')\n",
    "        return comments_clean\n",
    "    except FileNotFoundError:\n",
    "        print(f'{fpath} not found on disk')\n",
    "    except pd.errors.EmptyDataError:\n",
    "        print(f'{fpath} is empty')"
   ]
  },
  {
   "cell_type": "code",
   "execution_count": null,
   "metadata": {},
   "outputs": [],
   "source": [
    "comments = read_comm_csv(fpath)"
   ]
  },
  {
   "cell_type": "code",
   "execution_count": null,
   "metadata": {},
   "outputs": [
    {
     "name": "stdout",
     "output_type": "stream",
     "text": [
      "<class 'pandas.core.frame.DataFrame'>\n",
      "Int64Index: 200000 entries, 0 to 199999\n",
      "Data columns (total 5 columns):\n",
      " #   Column       Non-Null Count   Dtype         \n",
      "---  ------       --------------   -----         \n",
      " 0   author       200000 non-null  string        \n",
      " 1   body         200000 non-null  string        \n",
      " 2   created_utc  200000 non-null  datetime64[ns]\n",
      " 3   id           200000 non-null  string        \n",
      " 4   subreddit    200000 non-null  string        \n",
      "dtypes: datetime64[ns](1), string(4)\n",
      "memory usage: 9.2 MB\n"
     ]
    }
   ],
   "source": [
    "comments.info()"
   ]
  },
  {
   "cell_type": "markdown",
   "metadata": {},
   "source": [
    "### Read multiple comment `csv` files"
   ]
  },
  {
   "cell_type": "code",
   "execution_count": null,
   "metadata": {},
   "outputs": [],
   "source": [
    "# export\n",
    "def read_comm_csvs(fpaths: list):\n",
    "    comments_lst = []\n",
    "    for fpath in fpaths:\n",
    "        comments = read_comm_csv(fpath)\n",
    "        comments_lst.append(comments)\n",
    "    comments_concat = pd.concat(\n",
    "        comments_lst,\n",
    "        axis=0,\n",
    "        ignore_index=True\n",
    "    )\n",
    "    return comments_concat"
   ]
  },
  {
   "cell_type": "code",
   "execution_count": null,
   "metadata": {},
   "outputs": [],
   "source": [
    "comments = read_comm_csvs(comment_paths_year)"
   ]
  },
  {
   "cell_type": "code",
   "execution_count": null,
   "metadata": {},
   "outputs": [
    {
     "data": {
      "text/plain": [
       "subreddit\n",
       "AskReddit             429516\n",
       "politics              146023\n",
       "memes                  99027\n",
       "teenagers              89685\n",
       "dankmemes              84107\n",
       "                       ...  \n",
       "no_u                       1\n",
       "CuteBobby                  1\n",
       "no_drama                   1\n",
       "WorldBoxGodSandbox         1\n",
       "FatFurryPorn               1\n",
       "Length: 66885, dtype: int64"
      ]
     },
     "execution_count": null,
     "metadata": {},
     "output_type": "execute_result"
    }
   ],
   "source": [
    "comments.value_counts('subreddit')"
   ]
  },
  {
   "cell_type": "markdown",
   "metadata": {},
   "source": [
    "## Inspect comments"
   ]
  },
  {
   "cell_type": "code",
   "execution_count": null,
   "metadata": {},
   "outputs": [],
   "source": [
    "COMMENTS_DIR = '../data/comments/by_date/'"
   ]
  },
  {
   "cell_type": "code",
   "execution_count": null,
   "metadata": {},
   "outputs": [],
   "source": [
    "YEAR = 2019"
   ]
  },
  {
   "cell_type": "code",
   "execution_count": null,
   "metadata": {},
   "outputs": [],
   "source": [
    "fpaths = get_comments_paths_year(COMMENTS_DIR, '2019')"
   ]
  },
  {
   "cell_type": "code",
   "execution_count": null,
   "metadata": {},
   "outputs": [],
   "source": [
    "comments = read_comm_csvs(fpaths)"
   ]
  },
  {
   "cell_type": "code",
   "execution_count": null,
   "metadata": {},
   "outputs": [],
   "source": [
    "pd.set_option('display.max_rows', 500)\n",
    "pd.options.display.max_colwidth = 200\n",
    "\n",
    "lex = 'spreader'\n",
    "\n",
    "hits = (comments\n",
    "\t.filter(['body'])\n",
    "\t.query('body.str.contains(@lex)')\n",
    "\t.head(100)\n",
    ")\n",
    "\n",
    "# hits.style.set_properties(**{'text-align': 'left'})\n"
   ]
  },
  {
   "cell_type": "code",
   "execution_count": null,
   "metadata": {},
   "outputs": [
    {
     "name": "stdout",
     "output_type": "stream",
     "text": [
      "No, record two separate takes of the same vocals. Copying and pasting vocals to two tracks will only make it louder. Recording two separate takes and making one lower in volume will give the ‘Doubler’ effect that is widely used and adds width and depth to vocals. Have both separate tracks go to a vocal mix bus and add the spreader in that.\n",
      "And here I was going to ask if it fitted into your garage or did you have to take the salt spreader off ...🤣\n",
      "They definitely don’t “age”—I had one running for my entire Interactions run and it worked like a champ the entire time.\n",
      "\n",
      "When you say they aren’t producing much mana, what do you mean? Do they fill up when you check them with the wand after they eat a bucket? I would look into the rest of your Botania chain after the petropetunia to see if there’s an issue elsewhere... at one point I had put a tank in the line of sight of my mana spreader and it caused me to waste a bunch of mana, so my experience is that there may be issues elsewhere.\n",
      "I have yet to see a monohull without a backstay. The swept back spreader puts a slight bend in the mast which helps in performance. Downwind does suck which is why you use a spinnaker instead.\n",
      "System agent chip is under palmrest and covered by the heat spreader on the left side so likely its that.\n",
      "Monitor has a Cooper heat spreader on it.\n",
      "It does have one. It has a copper heat spreader\n",
      "As a snow plow and spreader operator, I could buy a mansion and yacht after working one Russian winter.\n",
      "I slipped in it and it spreader everywhere\n",
      "Toast nerd here. I only toast one slice at a time. Butter must be slightly pre-softened. Toaster must be on ideal setting. Must use special wide  spreader (narrow \"butter knife\" will not do. ) when the toast pops up, it's CRITICAL to spread butter promptly. Also helps if plate is warmed. Mmmmm... toast.. \n",
      "Saryn=cancer spreader\n",
      "An electrical insulator of some sort. Perhaps a wire spreader to keep  house or barn electrical service entrance wires with long runs from shorting during high wind. Pretty small wire size . Maybe a barn or water well pump electrical feed. Intriguing\n",
      "I think you mean spatula. Specula is the plural of speculum, which a tool used to open vaginas for examination. \n",
      "\n",
      "\n",
      "But hey, if you wanna use a cooch spreader to smooth your mousse, go for it.\n",
      "Homemade butter separator dish. You would pour homemade butter in the dish and the spout strains off the excess liquid from the solids. You could use it as a butter dish afterwards. The hole would have been a place to put a spreader knife.\n",
      "\n",
      "I remember my grandmother having something similar. The mini butter knife had a small cork on the end that fit into the hole. The hole was closer to the handle if I recall. That's the only thing I can think of.\n",
      "That’s horrible news!  This means you need to find a new wife!!  Let this be a valuable lesson to everyone...  always cover all your ass spreader bases before nuptials.\n",
      "Hi /u/Hazmataz13,\n",
      "\n",
      "Unfortunately your submission has been removed for the following reason(s):\n",
      "\n",
      "* **All selling and swapping posts must have a timestamp - see [here](https://www.reddit.com/r/HardwareSwapUK/wiki/timestamps). These must be dated within 5 days.**\n",
      "\n",
      "If you feel this was removed in error or are unsure about why this was removed then please [modmail](https://www.reddit.com/message/compose?to=%2Fr%2FHardwareSwapUK) us.\n",
      "\n",
      "                                   \n",
      "**Please don't comment with the timestamps or edit the post as the mods won't see this. Please make a new post.**    \n",
      "\n",
      "---\n",
      "\n",
      "**Title:** [[SG] [H] 8gb ddr4 2800[W] £30 PayPal](/r/HardwareSwapUK/comments/bf4tjo/sg_h_8gb_ddr4_2800w_30_paypal/)              \n",
      "**Username:** /u/Hazmataz13        \n",
      "**Original Post:**          \n",
      "it is single channel and overclocked easily from 2400 to 2800.\n",
      "\n",
      "also comes with a custom heat spreader that can be removed if wanted.       \n",
      "   \n",
      "\n",
      "*I am a bot, and this action was performed automatically. Please [contact the moderators of this subreddit](/message/compose/?to=/r/HardwareSwapUK) if you have any questions or concerns.*\n",
      "I think we may have covered this in another thread? (I had the emergency leaking-tarp situation that lead to a shitty night of double hammocking.) \n",
      "\n",
      "I have heard a few stories of people that do this on purpose, but I cannot imagine it working well. The spreader bars are a good option, however, if you want to fit two hammocks under one large tarp, which is something I honestly do want to try. \n",
      "\n",
      "Hammocks are so comfortable because you're not on the ground, and because you have free range to kick/roll/stretch etc and all you have to worry about is not tipping out. The one time I slept in a hammock with my S/O, it was awful. Our shoulders were shoved against the other, an elbow always below you or jabbing into the other, and oh...don't try to get out to use the bathroom! \n",
      "\n",
      "Tl;DR: Invest in separate hammocks and camp together with them. If you do this the first few nights you may want to venture into solo hammocks, and from there you have tons of options!\n",
      "If I need some low cost equipment, I start off with some old Deutz Fahr tractors that are on ModHub.  There's a couple that are admittedly low horsepower, but cost under $20k.  Then get a small tipper, Amazone seeder... there's a cheap fertilizer spreader on ModHub as well.  I forget the brand but it's white and spreads via a small pipe on the bottom that goes back and forth quickly.  For a harvester, I'll usually go with the small Rostelmash or the old Case.\n",
      "\n",
      "If I play a map with large fields like Marwell, I'll usually use the government subsidy sign to afford some big stuff to start with\n",
      "Reinstall the heating system, doing it properly.\n",
      "\n",
      "The radiant loop in the kitchen needs work...heat spreader plates installed, a proper radiant barrier \\[not just foil underlayment\\], insulation, etc.  Doing so would save a fortune on heating costs, to the point it'll pay for itself in a year or two.\n",
      "&gt; *\"Tell the boys not to wrap the straps around the gussets.\"*\n",
      "\n",
      "How bout' that rigging angle?  \n",
      "\n",
      "Or maybe a spreader bar?\n",
      "\n",
      "Jesus this sub is just turning into place for wood framers to post their favorite ways to kill people.\n",
      "\n",
      "Reminder guys, you keep doing shit like this that you don't know how to do right and, \n",
      "\n",
      "\"Welp, we've always done it this way and this is the first time we killed anybody\". \n",
      "\n",
      "Isn't  a good defense in court.\n",
      "Cheers for this. Just a quick Q: I've seen that some people have to remove the heat spreader on their RAM modules for the heatsink to fit so did you have to remove yours too? If not it did it have to do with the mobo that you used?\n",
      "Manure spreader\n",
      "oh yeah? lol how so oh false rumor spreader and facebook harasser of a guy that parents that just got divorced\n",
      "For example, I use tape saturation and compressor on the master bus nearly every mix. Sometimes I use frequency-based stereo spreader kind of thing. Sometimes I use an EQ. In a nutshell, everything you can imagine. Actually, I don't want to let things to the mastering engineer. He just fixes me, balances the master volume and brings his own color a little bit but doesn't try to change the song.\n",
      "Someone at DE is probably feeling sad that despite their efforts the community hasn't caught on yet. My Gaze has actually become my go-to secondary for a couple of months ever since the chain buff. I built it to be a status spreader for CO and anti-nullifier, but it's more effective than I expected. Corrosive straight up kills specific targets while gas deletes crowds\n",
      "I understand what you are saying. If I was single again for whatever reason I'd probably want the exact same thing as you are talking about. I agree that swingers are not for me, neither would be polyamory. With swingers, there are too many permutations for me to keep track of to be comfortable, because from a bacteria and body chemistry standpoint, you're not just having sex with them, you're also having sex with everyone they've had sex with. \n",
      "\n",
      "This is going to be a really weird mentality for people to grasp, but let me put it this way. If bacteria from a third party is transmitted to me sexually, that feels like a violation. If I were to get involved in something like an orgy, that's different, because that's with the understanding that anything that anyone has in that room is going to get back around to me. If I'm having sex with one person however and they're having different partners regularly, from a viral/bacterial standpoint that's no different than being involved in an orgy even though I never agreed to that.\n",
      "\n",
      "Your own personal reasons may be different, and I know that swingers go to a lot of effort to keep themselves and their partners safe. That being said, I know how bad some people's habits are, even when they are trying to be careful. Just like how an entire office building gets sick just because all it takes it one jackass to answer a communal company phone because it rings right after they just sneezed into their hand.\n",
      "\n",
      "Our culture still shakes hands upon meeting people, even though it's a proven spreader of disease. It's a holdover from showing someone that you weren't going to attack them with a weapon, which is obsolete since the invention of small-scale guns. We still do it though, because it's culture and part of good manners, and get sick as a result. \n",
      "\n",
      "How this applies to sex and swinging is that you may have every intention of keeping yourself and others safe, you may get tested regularly and use protection during sex, even including things like dental dams. That being said, if we can't stop doing things like a handshake because it would be rude, how are people going to stop themselves from making mistakes in a far more intimate and less rational situation? \n",
      "\n",
      "I'm sure that will offend many swingers who are super safe and would never put others in danger, but that is my personal reason for avoiding it. I can masturbate all I want to orgy porn, but frankly the idea of actually having sex with a bunch of different people disgusts me on an intellectual level. I would far rather have a whole bunch of people in a room masturbating together and not touching than actually having sex. It doesn't matter how careful people are, to err is human and mistakes will happen. That's why despite having a high sex drive beyond what any partner has ever been able to match, I stay monogamous and just use masturbation to take care of the extra urges.\n",
      "Which manure spreader and map is this?\n",
      "B rank\n",
      "These stages use their concepts well, but are held back by either poor stage design or lackluster concepts in general.\n",
      "\n",
      "17. Fancy Spew\n",
      "This stage would be the first to introduce spreaders, but it certainly wouldn't be the last. With the giant spreader and its cohorts always creating more of both sides ink, it was never truly over for one side. However, that also gave a sense of... staleness. As if there was nothing you could do about the spreaders unless you literally spent the whole match watching them like a hawk. Not really that fun. Thus, B is where it resides. \n",
      "\n",
      "16. The Chronicles of Rolonium\n",
      "Rolonium finally got its debut outside of octo canyon in the time travel v teleportation splatfest, and it was... fine? I guess. The main issue with this one was that the rolonium didnt play a massive role in this one. Yeah sure, people focused it as soon as it recharged, but for the most part, its role in most battles was suprisingly weak. It didnt do too much damage, it wasn't too hard to clean up after, and it took a long time to recharge. Overall, not a bad map, but it didn't leave much of an impression.\n",
      "\n",
      "15. Flooders in the Attic\n",
      "This stage gave us the Flooders, powerful OHKO enemies that both teams could use to pressure the enemy to retreat from. The flooders were used pretty well and had a presence throughout the battle. But the middle... dear god the middle. This map had one of the worst middle sections of the entire selection of shify stations. Thanks to it being raised, as well as the enemy flooder locking on to any allies in the middle, it could make it downright impossible to regain traction on this map if you lost it. Was definitely the downfall of this map imo.\n",
      "\n",
      "14. Wayslide Cool\n",
      "As our first taste of shifty station, this stage was not all that bad. It had a fun concept of horizontally moving platforms, which could prevent players from inking entire swathes of turf. While it certainly wasn't groundbreaking (especially compared with what was to come), it still was a fun and interesting map nonetheless.\n",
      "\n",
      "13.Railway Chillin\n",
      "This stage was done quite well. With Grindrails place everywhere on the map and areas only accesible by grindrail, it used them to their full extent. Why then, you're probably asking, is it so low? The answer: its middle. This map had one of the worst middles of any splatoon map... ever. Losing the middle here could lead to an extreme disadvantage, and breaking the other teams defense could end up overwhelmingly difficult. If the middle problem was fixed, the stage would be way higher, but for now, it stays around the middle.\n",
      "\n",
      "12. The Bouncy Twins\n",
      "While the Bounce pads were fun in this stage, I feel as if most of that fun came from just running straight into the enemy base. Playing a game of tag through their base while they silently screamed through their monitors was fun, but apart from that, they felt underused and the middle was kinda forgettable. Regardless, out of all the middle of the road stages, this one was the best.\n",
      "\n",
      "A rank\n",
      "These stages had good concepts, and executed them well--but were lacked the consistency of the higher up stages.\n",
      "\n",
      "11. A Swiftly Tilting Balance\n",
      "This was the final map for the TMNT splatfest tournament that happened, and after two repeat stations (neither of which were good ones), this map need to impress. And you know what? It succeeded! With an interesting concept and ample enough use, this maps only downside is its simplicity once the gimmick is discovered. Other than that, enjoy taking the weight off of your shoulders!\n",
      "10. The Ink is Spreading\n",
      "Now THIS was the best spreader stage. Now with switches to control the ink, this stage made the concept of spreaders interesting. While Fancy Spew was good in its own right, it doesnt copmare to the competitive epicenter of TIiS. This is probably the most all-around good stage of them all.\n",
      "9. Cannon Fire Pearlie\n",
      "Although these aren't exactly the cannons from single-player, they still serve thebsame purpose. And, as evident by this stages placing, just as fun. The cannons strong effect on the middle, combined with the giant slopes make this stage a truly chaotic one. The only issue i have with it is that the middle is very dense compared to the bases, so it can make comebacks difficult sometimes, but apart from that, good stage.\n",
      "\n",
      "S rank\n",
      "For stages that used their concepts greatly throughout the stage and used them very well, only to be held back from X by their lack of dynamic-ness.\n",
      "\n",
      "8. Grapplink Girl\n",
      "This stage used Grapplinks superbly, allowing players to quickly move to different parts of the map and even jump the entire map with specials such as Bubble Blower or Sting Ray. It had grapplinks that were the only way into the enemy base(or at least the less risky way) making it less prone to annoying teammates that try to sneak by the enemy and paint but end up dying. So thats good.\n",
      "7. The Switches\n",
      "Now here's a fun stage. The concept of having the switches block off the enemies from your spawn was a good one, and it made pushes that much more fun. There's really not that much to say about this stage. Its just a great overall stage.\n",
      "6. Geyser Town\n",
      "The one con about this stage is that the middle two geysers really aren't much more than a blockade. Apart from that, this stage is a fun one that puts geysers to full use, and even shows a few new things about them, like that fact that they instantly detonate bombs(who knew?).\n",
      "5. Zappy Longshockings\n",
      "This map truly felt like a game of time management. Between the wall blocking off players(if you couldnt guess i love area denial), the ink switches allowing you to enter enemy spawn, and the middle corridor of this saltspray rig shaped stage, it truly tests the player on where they had to be and when. Spend too long in one place, the enemy can easily take another. The only issue is that the switches feel a bit... lethargic... at times, but its not too much to worry about.\n",
      "4. Furler in the Ashes\n",
      "The second to last stage, appropriately put just before X rank. Finally using the long awaited furlers was good enough, but the suprise return of Mahi Mahi's water mechanics?! Now that was just icing on the cake. With the giant furlers allowing for stupid stuff such as being able to move way too fast with the splatlings or the best use of a sprinkler ever, this map only barely, barely misses out on X because it pales in comparison to the final 3.\n",
      "\n",
      "X rank\n",
      "The best of the best. These maps mechanics are so important to the stage that it makes every second on them important. They're dynamic, their fun, and they test the players ability to do more than just turf. They are what made shifty station stand out the most.\n",
      "\n",
      "3. The Bunker Games\n",
      "This stage. This stage was the first glimpse we had into how truly awesome the stations could be. With bunkers that appeared to outright deny players of swathes of turf, it made everyone invested for the whole match.\n",
      "2. Bridge to Terraswitchia\n",
      "This stage somehow did what The Bunker Games did even better, now having the area denial fully in the hands of the players. It perfectly handled the balance between offense and defense, and showed to players that if they got their butts handed to them in the first half, they would have to turn it up to 11 in order to fix that. Truly a great stage.\n",
      "\n",
      "1. Sweet Valley Tentacles\n",
      "Now, there was one problem with the previous stages that I decided not to mention until now. A problem that, while small, still brought them down a peg. And that problem was movement. In a game all about movement, its kind of boring to stanf in one place and wait to fight enemies. If you want to claim turf, then you should have to overcome your enemies head on to do it. And thats what Sweet Valley Tentacles does to put it above them all. It had everything: Area Denial, vast usage of a octo valley mechanic that none of us expected, large amounts of turf, and constantly shifting places of importance. If you pushed when needed, and defended your tentacles when they were under attack, you were guaranteed to succeed. It made sneakers(see grapplink girl to see what I'm talking about) unable to be annoying without getting some serious targets on their backs, it made scaredy-cats who were too afraid to push hold their team back. It truly made for a dynamic stage, and I honestly feel like the concept of this map would make an excellent ranked mode. It truly made turf war feel like more than it was.\n",
      "B rank\n",
      "These stages use their concepts well, but are held back by either poor stage design or lackluster concepts in general.\n",
      "\n",
      "17. Fancy Spew\n",
      "This stage would be the first to introduce spreaders, but it certainly wouldn't be the last. With the giant spreader and its cohorts always creating more of both sides ink, it was never truly over for one side. However, that also gave a sense of... staleness. As if there was nothing you could do about the spreaders unless you literally spent the whole match watching them like a hawk. Not really that fun. Thus, B is where it resides. \n",
      "\n",
      "16. The Chronicles of Rolonium\n",
      "Rolonium finally got its debut outside of octo canyon in the time travel v teleportation splatfest, and it was... fine? I guess. The main issue with this one was that the rolonium didnt play a massive role in this one. Yeah sure, people focused it as soon as it recharged, but for the most part, its role in most battles was suprisingly weak. It didnt do too much damage, it wasn't too hard to clean up after, and it took a long time to recharge. Overall, not a bad map, but it didn't leave much of an impression.\n",
      "\n",
      "15. Flooders in the Attic\n",
      "This stage gave us the Flooders, powerful OHKO enemies that both teams could use to pressure the enemy to retreat from. The flooders were used pretty well and had a presence throughout the battle. But the middle... dear god the middle. This map had one of the worst middle sections of the entire selection of shify stations. Thanks to it being raised, as well as the enemy flooder locking on to any allies in the middle, it could make it downright impossible to regain traction on this map if you lost it. Was definitely the downfall of this map imo.\n",
      "\n",
      "14. Wayslide Cool\n",
      "As our first taste of shifty station, this stage was not all that bad. It had a fun concept of horizontally moving platforms, which could prevent players from inking entire swathes of turf. While it certainly wasn't groundbreaking (especially compared with what was to come), it still was a fun and interesting map nonetheless.\n",
      "\n",
      "13.Railway Chillin\n",
      "This stage was done quite well. With Grindrails place everywhere on the map and areas only accesible by grindrail, it used them to their full extent. Why then, you're probably asking, is it so low? The answer: its middle. This map had one of the worst middles of any splatoon map... ever. Losing the middle here could lead to an extreme disadvantage, and breaking the other teams defense could end up overwhelmingly difficult. If the middle problem was fixed, the stage would be way higher, but for now, it stays around the middle.\n",
      "\n",
      "12. The Bouncy Twins\n",
      "While the Bounce pads were fun in this stage, I feel as if most of that fun came from just running straight into the enemy base. Playing a game of tag through their base while they silently screamed through their monitors was fun, but apart from that, they felt underused and the middle was kinda forgettable. Regardless, out of all the middle of the road stages, this one was the best.\n",
      "\n",
      "A rank\n",
      "These stages had good concepts, and executed them well--but were lacked the consistency of the higher up stages.\n",
      "\n",
      "11. A Swiftly Tilting Balance\n",
      "This was the final map for the TMNT splatfest tournament that happened, and after two repeat stations (neither of which were good ones), this map need to impress. And you know what? It succeeded! With an interesting concept and ample enough use, this maps only downside is its simplicity once the gimmick is discovered. Other than that, enjoy taking the weight off of your shoulders!\n",
      "10. The Ink is Spreading\n",
      "Now THIS was the best spreader stage. Now with switches to control the ink, this stage made the concept of spreaders interesting. While Fancy Spew was good in its own right, it doesnt copmare to the competitive epicenter of TIiS. This is probably the most all-around good stage of them all.\n",
      "9. Cannon Fire Pearlie\n",
      "Although these aren't exactly the cannons from single-player, they still serve thebsame purpose. And, as evident by this stages placing, just as fun. The cannons strong effect on the middle, combined with the giant slopes make this stage a truly chaotic one. The only issue i have with it is that the middle is very dense compared to the bases, so it can make comebacks difficult sometimes, but apart from that, good stage.\n",
      "\n",
      "S rank\n",
      "For stages that used their concepts greatly throughout the stage and used them very well, only to be held back from X by their lack of dynamic-ness.\n",
      "\n",
      "8. Grapplink Girl\n",
      "This stage used Grapplinks superbly, allowing players to quickly move to different parts of the map and even jump the entire map with specials such as Bubble Blower or Sting Ray. It had grapplinks that were the only way into the enemy base(or at least the less risky way) making it less prone to annoying teammates that try to sneak by the enemy and paint but end up dying. So thats good.\n",
      "7. The Switches\n",
      "Now here's a fun stage. The concept of having the switches block off the enemies from your spawn was a good one, and it made pushes that much more fun. There's really not that much to say about this stage. Its just a great overall stage.\n",
      "6. Geyser Town\n",
      "The one con about this stage is that the middle two geysers really aren't much more than a blockade. Apart from that, this stage is a fun one that puts geysers to full use, and even shows a few new things about them, like that fact that they instantly detonate bombs(who knew?).\n",
      "5. Zappy Longshockings\n",
      "This map truly felt like a game of time management. Between the wall blocking off players(if you couldnt guess i love area denial), the ink switches allowing you to enter enemy spawn, and the middle corridor of this saltspray rig shaped stage, it truly tests the player on where they had to be and when. Spend too long in one place, the enemy can easily take another. The only issue is that the switches feel a bit... lethargic... at times, but its not too much to worry about.\n",
      "4. Furler in the Ashes\n",
      "The second to last stage, appropriately put just before X rank. Finally using the long awaited furlers was good enough, but the suprise return of Mahi Mahi's water mechanics?! Now that was just icing on the cake. With the giant furlers allowing for stupid stuff such as being able to move way too fast with the splatlings or the best use of a sprinkler ever, this map only barely, barely misses out on X because it pales in comparison to the final 3.\n",
      "\n",
      "X rank\n",
      "The best of the best. These maps mechanics are so important to the stage that it makes every second on them important. They're dynamic, their fun, and they test the players ability to do more than just turf. They are what made shifty station stand out the most.\n",
      "\n",
      "3. The Bunker Games\n",
      "This stage. This stage was the first glimpse we had into how truly awesome the stations could be. With bunkers that appeared to outright deny players of swathes of turf, it made everyone invested for the whole match.\n",
      "2. Bridge to Terraswitchia\n",
      "This stage somehow did what The Bunker Games did even better, now having the area denial fully in the hands of the players. It perfectly handled the balance between offense and defense, and showed to players that if they got their butts handed to them in the first half, they would have to turn it up to 11 in order to fix that. Truly a great stage.\n",
      "\n",
      "1. Sweet Valley Tentacles\n",
      "Now, there was one problem with the previous stages that I decided not to mention until now. A problem that, while small, still brought them down a peg. And that problem was movement. In a game all about movement, its kind of boring to stanf in one place and wait to fight enemies. If you want to claim turf, then you should have to overcome your enemies head on to do it. And thats what Sweet Valley Tentacles does to put it above them all. It had everything: Area Denial, vast usage of a octo valley mechanic that none of us expected, large amounts of turf, and constantly shifting places of importance. If you pushed when needed, and defended your tentacles when they were under attack, you were guaranteed to succeed. It made sneakers(see grapplink girl to see what I'm talking about) unable to be annoying without getting some serious targets on their backs, it made scaredy-cats who were too afraid to push hold their team back. It truly made for a dynamic stage, and I honestly feel like the concept of this map would make an excellent ranked mode. It truly made turf war feel like more than it was.\n",
      "the ridgerunner isn't an UL rig at all, no, but it's also not ridiculously heavy.   it's still well under 2 lbs for the double layer with spreader bars (i think)\n",
      "\n",
      "if you want ultra light, hit up towns end bridge hammock\n",
      "tzlibre is a spreader of FUD, scammer of decent XTZ holders.\n",
      "My primary surgeon destroyed my nose. I went to David Hacker (Toronto Rhinoplasty Clinic) and my nose was ruined. I couldn't breathe at all and it was collapsing. He left me with various issues (Inverted-v, alar collapse, etc). He was the most miserable and horrible man I ever met. I can't believe he's a doctor, but it seems that many others have posted and left reviews of their poor experiences with him...so I can hope others can avoid being botched by him. That year was horrible and all I could do was research and go to consultations with other surgeons to find a way to fix this mess.\n",
      "I would not recommend going to Oakley Smith. I ended up going to him (Oakley Smith) and he seemed good. But he's really just a salesman and he sold me on having him do my surgery...choosing him was mistake #2 I made. He fixed some issues (inverted-v poorly..., flared nostrils) and worsened other issues + created new ones (alar collapse worsened, pinched tip and crooked nose). He gave multiple excuses for the issues he left me with and then tried to convince me it was in my head or well my airways were \"open/not blocked\" so I should be able to breathe well (I can literally see my alar cartilage that has sunken in and blocked my airway + it sticks to my septum). I ended up getting several second opinions to confirm this. So I have a revision surgeon that will be fixing the issues oakley smith left me with (thicker spreader graft, alar strut grafts, tip repositioning).\n",
      "At my one year appointment he was more focused on my reviews/posts I left, kept asking why I was so angry (or was surprised at how frustrated/angry I was)...like do you think this is a joke? I paid you 18k to fix the function and look, you did a half-assed and lazy job. Idk he kept bringing these reviews/posts up and I realized then and there that he cares more about these posts/reviews than his patients. I'm sure they're keeping an eye on any other posts I make as well based on how he kept bringing these posts/reviews up...He decided to try lying to my face and state that perhaps I had taken him talking/thinking out loud as stating that x is the issue. And dude no, you did your poor checkup and then straight up said to my face the issue is x (then it was y the next time, then z, etc). But whatever, so I had stressed I prioritized function over the look since the start. And he had the gall to be shocked about how angry I am, like he should know how hard the recovery is for rhinoplasty (let alone a revision), taking time off work/school, etc. And he went off on how he is the best at what he does and basically the gist was he's the best at rhinoplasty? And went on to state that any surgeon that tells me they can fix this is lying and whatnot. He was triggered tbh and just was going on and on about how he's the best, etc.\n",
      "It was a bit amusing to hear tbh (like I was trying to keep my eyes from rolling to the back of my head...), because based on my experience + the experience of all these numerous people I have met that have poor results from smith (and ones who did a second revision with him to end off worse)...He's not the best and he shouldn't be telling these patients that no other doctor can fix the mess he made (especially if he's basing it off whether it can fixed on his own skill+experience...which again is lacking as they caused the issues in the first place). There's no reason to scare these patients off from going to get a second opinion or getting a revision elsewhere.\n",
      "Either way he gave out some random percentage success rate (like I predicted) and said he would do a revision. A few days later I received a message and basically he thinks I have good results + revision is not worth it and he'll discuss things further/options in the new year. So having a nose that does not function and is crooked is a good result for him. Take that as you will if anyone is considering him. Either way I have a revision surgeon that will be fixing the issues Oakley Smith left me with. There was honestly no way I would trust him to have the skill/ability or the ethics to do another revision. He would definitely leave me worse off and I don't trust him not to do something I already declined (i.e. he and his student kept trying to push me to do a turbinate reduction, knowing that the alar collapse + other issues are causing the breathing problems, and I said no numerous times and they kept pushing). You want a doctor that see patients as people and not just a profit. Funny thing is that, I have stated smith uses fake reviews and it seems that he had many of the negative ones he received removed (example: he had like 380 reviews on ratemd a while ago and now it's down to 360 or something with like all his negative reviews removed). So please be careful if you choose to go to him as he has them removed. If I could go back in time I would never touch my nose (or go to Hacker or Smith). I could live with a crooked nose that's the thing; it's the breathing issues that are the worst.\n",
      "This girl is also someone that had their surgery with Smith btw:\n",
      "https://www.realself.com/question/niagara-fillers-fix-curved-nose\n",
      "This one is the same girl as above, but after Smith put filler in her nose.\n",
      "https://www.realself.com/question/niagara-nose-swollen\n",
      "and this one I posted somewhere else, but not sure if you saw it:\n",
      "https://www.realself.com/review/18-year-girl-successful-revision-rhinoplasty-move-life-2017\n",
      "I would have never touched my nose if I could go back in time. Otherwise I wouldn’t have gone to hacker or smith. I wish I had known smith manipulated his reviews and that I should have gone elsewhere (probably out of the country tbh…)\n",
      "Well if you’re more then 30 feet, yes you are bad with shottys, they spread and the mastiff spreader left-right\n",
      "That looks like a great deal, but I am height-constrained and need my RAM to be 31mm to less. So far I have only found that the Corsair Vengeance fits, but I had also heard about removing the heat spreader. Any idea if the bare board would fit, and it the missing thermal spreader would hurt performance?\n",
      "The porn industry is, like, the biggest spreader of misoginy worldwide.\n",
      "\n",
      "\n",
      "But our community overlaps with channer culture, therefore, we are up to no good — rite?\n",
      "The box needs to be either on a spreader bracket OR have a support wire (314.23 (D) 1;2) and as long as the mc has an insulated ground and its continuous through the box theres no problem using the plastic box per 314.3 Exception 1.\n",
      "So very evil... \"Here is your cancer medicine, and here is your cancer spreader *points at Fallout 76* free now with every purchase!\"\n",
      "That bumper could've been saved if you wanted to get extremely involved. We would have to do that from time to time when used car managers wanted to save some money on a beater car. If you're interested look into plastic welding. Or what we would do is melt a bondo spreader into the crack with a soldering iron and grind it to get it close, then bondo it up to find tune it. Feather fill primer is your best friend on repairs like that too. Awesome job on the repair! \n",
      "99.99% sure fertilizer doesn't effect trees, but if I grow grass there as well, it would help that. Might need to use a solid fertilizer spreader though as all the boom arms on liquid spreaders would get stuck all the time.\n",
      "Not everyone has spreader bars on hand.  \n",
      "\n",
      "Personally, knowing that we don't have them with our rotator I would have ran a line from a light duty to the front of that truck, lift it up the exact same way and use the light duty to pull on the nose when it's ready to be upright.  I'd do it that way to avoid additional damage (it's totaled anyway but we've got the equipment on scene) and I'd hook it while it's on the ground to avoid having someone get under a 6500lb fish.\n",
      "\n",
      "We've had to do this with cars that end up in washes where you have to lift it out and can't just drag it out.  It's great when they have full coverage (easily around 750-1000 towing/labor) but it sucks when it's a liability beater.\n",
      "The person who was a large spreader of this photo is this guy, who posted the caption:   \n",
      "\"Here's a photo of Jason Mamoa getting arrested while defending sacred land in Hawaii.\"\n",
      "\n",
      "He has since responded:\n",
      "\n",
      " \"So I've been informed that this photo is staged. But I'm going to leave it up because it still brings attention to #WeAreMaunaKea\"  \n",
      "[https://twitter.com/the\\_green\\_city/status/1161448144980365317](https://twitter.com/the_green_city/status/1161448144980365317)   \n",
      "\n",
      "\n",
      "**POSTER BOY FOR THE ATTITUDE OF THE MOVEMENT.** \n",
      "\n",
      "It is factually incorrect. I know it is factually incorrect. But **meh**, it brings attention to the movement so I am leaving the post as is, saying he was arrested.\n",
      "I was set to agree with you but your post history is 100% negative, easy questions that have been answered 500 times in the past or complaining about other games.  You are a negativity spreader when it suits you.\n",
      "I made my own spreader bar using rods, nuts and bolts from Home Depot.\n",
      "spreader bar? may i ask what that is?\n"
     ]
    }
   ],
   "source": [
    "hits_tok = [hit.split(' ') for hit in hits.body]\n",
    "for comm in hits_tok:\n",
    "\tfor i, tok in enumerate(comm):\n",
    "\t\tif tok == lex:\n",
    "\t\t\tprint(\" \".join(comm))\n",
    "\t\t\t# print(comm[i-1], tok, comm[i+1])\n"
   ]
  }
 ],
 "metadata": {
  "kernelspec": {
   "display_name": "Python 3 (ipykernel)",
   "language": "python",
   "name": "python3"
  }
 },
 "nbformat": 4,
 "nbformat_minor": 4
}
